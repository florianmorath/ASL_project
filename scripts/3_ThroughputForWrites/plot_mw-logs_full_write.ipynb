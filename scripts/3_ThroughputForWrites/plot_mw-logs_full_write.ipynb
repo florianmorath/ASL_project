{
 "cells": [
  {
   "cell_type": "markdown",
   "metadata": {},
   "source": [
    "### This file plots the processed csv files with matplotlib"
   ]
  },
  {
   "cell_type": "code",
   "execution_count": 1,
   "metadata": {},
   "outputs": [],
   "source": [
    "import matplotlib\n",
    "import matplotlib.pyplot as plt\n",
    "import matplotlib.ticker as tick\n",
    "import numpy as np\n",
    "import pandas as pd"
   ]
  },
  {
   "cell_type": "markdown",
   "metadata": {},
   "source": [
    "## Adjust date of processed csv files"
   ]
  },
  {
   "cell_type": "code",
   "execution_count": 2,
   "metadata": {},
   "outputs": [],
   "source": [
    "date = '2018-11-09_12h02'\n",
    "worker_list = [64] #[8,16,32,64]\n",
    "base_path = '/Users/florianmorath/Desktop/ASL_project/scripts/3_ThroughputForWrites/processed_data/' + date + '/'"
   ]
  },
  {
   "cell_type": "markdown",
   "metadata": {},
   "source": [
    "## Throughput plot for write loads"
   ]
  },
  {
   "cell_type": "code",
   "execution_count": 3,
   "metadata": {},
   "outputs": [
    {
     "data": {
      "text/html": [
       "<div>\n",
       "<style scoped>\n",
       "    .dataframe tbody tr th:only-of-type {\n",
       "        vertical-align: middle;\n",
       "    }\n",
       "\n",
       "    .dataframe tbody tr th {\n",
       "        vertical-align: top;\n",
       "    }\n",
       "\n",
       "    .dataframe thead th {\n",
       "        text-align: right;\n",
       "    }\n",
       "</style>\n",
       "<table border=\"1\" class=\"dataframe\">\n",
       "  <thead>\n",
       "    <tr style=\"text-align: right;\">\n",
       "      <th></th>\n",
       "      <th>client</th>\n",
       "      <th>worker</th>\n",
       "      <th>write_tp_mean</th>\n",
       "      <th>write_tp_std</th>\n",
       "    </tr>\n",
       "  </thead>\n",
       "  <tbody>\n",
       "    <tr>\n",
       "      <th>0</th>\n",
       "      <td>6</td>\n",
       "      <td>64</td>\n",
       "      <td>3091.966667</td>\n",
       "      <td>21.166667</td>\n",
       "    </tr>\n",
       "    <tr>\n",
       "      <th>1</th>\n",
       "      <td>192</td>\n",
       "      <td>64</td>\n",
       "      <td>15178.166667</td>\n",
       "      <td>223.433333</td>\n",
       "    </tr>\n",
       "  </tbody>\n",
       "</table>\n",
       "</div>"
      ],
      "text/plain": [
       "   client  worker  write_tp_mean  write_tp_std\n",
       "0       6      64    3091.966667     21.166667\n",
       "1     192      64   15178.166667    223.433333"
      ]
     },
     "execution_count": 3,
     "metadata": {},
     "output_type": "execute_result"
    }
   ],
   "source": [
    "# read data into pandas dataframe\n",
    "df_tp = pd.read_csv(base_path + 'full_write_mw_tp.csv')\n",
    "df_tp"
   ]
  },
  {
   "cell_type": "code",
   "execution_count": 4,
   "metadata": {},
   "outputs": [],
   "source": [
    "def y_fmt(tick_val, pos):\n",
    "    if tick_val > 1000000:\n",
    "        val = int(tick_val)/1000000\n",
    "        return str(val).rstrip('0') + ' M'\n",
    "    elif tick_val >= 1000:\n",
    "        val = int(tick_val) / 1000\n",
    "        return str(val).rstrip('0') + ' k'\n",
    "    else:\n",
    "        return tick_val"
   ]
  },
  {
   "cell_type": "code",
   "execution_count": 5,
   "metadata": {},
   "outputs": [
    {
     "data": {
      "image/png": "[encoded data removed]",
      "text/plain": [
       "<Figure size 432x288 with 1 Axes>"
      ]
     },
     "metadata": {
      "needs_background": "light"
     },
     "output_type": "display_data"
    }
   ],
   "source": [
    "f = plt.figure()\n",
    "plt.title(\"Throughput vs. Num of Virtual Clients \\n (Write-only, 3 Clients, 2 MWs, 3 Servers, CT=1, VC=[1..48])\")\n",
    "\n",
    "for worker in worker_list:\n",
    "    # extract values of interest\n",
    "    df_tp_cut = df_tp[(df_tp.worker == worker)]\n",
    "    \n",
    "    vcs = df_tp_cut['client']\n",
    "    tps = df_tp_cut['write_tp_mean']\n",
    "    std = df_tp_cut['write_tp_std']\n",
    "    \n",
    "    plt.errorbar(x = vcs, y = tps, yerr = std, label = \"{} Workers\".format(worker), capsize = 4, marker='o')\n",
    "\n",
    "plt.grid(linestyle = \"dotted\")\n",
    "plt.ylabel(\"Average Throughput (ops/s)\")\n",
    "plt.xlabel(\"Number of Virtual Clients\")\n",
    "plt.xticks([0] + np.array(vcs))\n",
    "plt.ylim(bottom=0,top=8e3+np.mean(df_tp['write_tp_mean']))\n",
    "plt.legend()\n",
    "\n",
    "ax = plt.gca()\n",
    "ax.yaxis.set_major_formatter(tick.FuncFormatter(y_fmt))\n",
    "\n",
    "plt.show()\n",
    "f.savefig(\"/Users/florianmorath/Desktop/ASL_project/scripts/3_ThroughputForWrites/processed_data/\"+date+\"/full_write_mw_tp_write.png\", dpi = 150)\n"
   ]
  },
  {
   "cell_type": "markdown",
   "metadata": {},
   "source": [
    "## Response-time plot for write loads"
   ]
  },
  {
   "cell_type": "code",
   "execution_count": 6,
   "metadata": {},
   "outputs": [
    {
     "data": {
      "text/html": [
       "<div>\n",
       "<style scoped>\n",
       "    .dataframe tbody tr th:only-of-type {\n",
       "        vertical-align: middle;\n",
       "    }\n",
       "\n",
       "    .dataframe tbody tr th {\n",
       "        vertical-align: top;\n",
       "    }\n",
       "\n",
       "    .dataframe thead th {\n",
       "        text-align: right;\n",
       "    }\n",
       "</style>\n",
       "<table border=\"1\" class=\"dataframe\">\n",
       "  <thead>\n",
       "    <tr style=\"text-align: right;\">\n",
       "      <th></th>\n",
       "      <th>client</th>\n",
       "      <th>worker</th>\n",
       "      <th>write_rt_mean</th>\n",
       "      <th>write_rt_std</th>\n",
       "    </tr>\n",
       "  </thead>\n",
       "  <tbody>\n",
       "    <tr>\n",
       "      <th>0</th>\n",
       "      <td>6</td>\n",
       "      <td>64</td>\n",
       "      <td>1.293913</td>\n",
       "      <td>0.004096</td>\n",
       "    </tr>\n",
       "    <tr>\n",
       "      <th>1</th>\n",
       "      <td>192</td>\n",
       "      <td>64</td>\n",
       "      <td>9.485537</td>\n",
       "      <td>0.038438</td>\n",
       "    </tr>\n",
       "  </tbody>\n",
       "</table>\n",
       "</div>"
      ],
      "text/plain": [
       "   client  worker  write_rt_mean  write_rt_std\n",
       "0       6      64       1.293913      0.004096\n",
       "1     192      64       9.485537      0.038438"
      ]
     },
     "execution_count": 6,
     "metadata": {},
     "output_type": "execute_result"
    }
   ],
   "source": [
    "# read data into pandas dataframe\n",
    "df_rt = pd.read_csv(base_path + 'full_write_mw_rt.csv')\n",
    "df_rt"
   ]
  },
  {
   "cell_type": "code",
   "execution_count": 7,
   "metadata": {},
   "outputs": [
    {
     "data": {
      "image/png": "[encoded data removed]",
      "text/plain": [
       "<Figure size 432x288 with 1 Axes>"
      ]
     },
     "metadata": {
      "needs_background": "light"
     },
     "output_type": "display_data"
    }
   ],
   "source": [
    "f = plt.figure()\n",
    "plt.title(\"Response-time vs. Num of Virtual Clients \\n (Write-only, 3 Clients, 2 MWs, 3 Servers, CT=1, VC=[1..48])\")\n",
    "\n",
    "for worker in worker_list:\n",
    "    # extract values of interest\n",
    "    df_rt_cut = df_rt[(df_rt.worker == worker)]\n",
    "    \n",
    "    vcs = df_rt_cut['client']\n",
    "    tps = df_rt_cut['write_rt_mean']\n",
    "    std = df_rt_cut['write_rt_std']\n",
    "    \n",
    "    plt.errorbar(x = vcs, y = tps, yerr = std, label = \"{} Workers\".format(worker), capsize = 4, marker='o')\n",
    "\n",
    "plt.grid(linestyle = \"dotted\")\n",
    "plt.ylabel(\"Average Response-time (ms)\")\n",
    "plt.xlabel(\"Number of Virtual Clients\")\n",
    "plt.xticks([0] + np.array(vcs))\n",
    "plt.ylim(bottom=0, top=np.max(df_rt['write_rt_mean'])+5)\n",
    "plt.legend()\n",
    "\n",
    "ax = plt.gca()\n",
    "ax.yaxis.set_major_formatter(tick.FuncFormatter(y_fmt))\n",
    "\n",
    "plt.show()\n",
    "f.savefig(\"/Users/florianmorath/Desktop/ASL_project/scripts/3_ThroughputForWrites/processed_data/\"+date+\"/full_write_rt_write.png\", dpi = 150)\n"
   ]
  },
  {
   "cell_type": "markdown",
   "metadata": {},
   "source": [
    "## Queue length plot for write loads"
   ]
  },
  {
   "cell_type": "code",
   "execution_count": 9,
   "metadata": {},
   "outputs": [
    {
     "data": {
      "text/html": [
       "<div>\n",
       "<style scoped>\n",
       "    .dataframe tbody tr th:only-of-type {\n",
       "        vertical-align: middle;\n",
       "    }\n",
       "\n",
       "    .dataframe tbody tr th {\n",
       "        vertical-align: top;\n",
       "    }\n",
       "\n",
       "    .dataframe thead th {\n",
       "        text-align: right;\n",
       "    }\n",
       "</style>\n",
       "<table border=\"1\" class=\"dataframe\">\n",
       "  <thead>\n",
       "    <tr style=\"text-align: right;\">\n",
       "      <th></th>\n",
       "      <th>client</th>\n",
       "      <th>worker</th>\n",
       "      <th>write_queueLength</th>\n",
       "      <th>write_queueLength_std</th>\n",
       "    </tr>\n",
       "  </thead>\n",
       "  <tbody>\n",
       "    <tr>\n",
       "      <th>0</th>\n",
       "      <td>6</td>\n",
       "      <td>64</td>\n",
       "      <td>1.142236</td>\n",
       "      <td>0.002295</td>\n",
       "    </tr>\n",
       "    <tr>\n",
       "      <th>1</th>\n",
       "      <td>192</td>\n",
       "      <td>64</td>\n",
       "      <td>18.867417</td>\n",
       "      <td>0.043925</td>\n",
       "    </tr>\n",
       "  </tbody>\n",
       "</table>\n",
       "</div>"
      ],
      "text/plain": [
       "   client  worker  write_queueLength  write_queueLength_std\n",
       "0       6      64           1.142236               0.002295\n",
       "1     192      64          18.867417               0.043925"
      ]
     },
     "execution_count": 9,
     "metadata": {},
     "output_type": "execute_result"
    }
   ],
   "source": [
    "# read data into pandas dataframe\n",
    "df_ql = pd.read_csv(base_path + 'full_write_mw_queuelength.csv')\n",
    "df_ql"
   ]
  },
  {
   "cell_type": "code",
   "execution_count": 10,
   "metadata": {},
   "outputs": [
    {
     "data": {
      "image/png": "[encoded data removed]",
      "text/plain": [
       "<Figure size 432x288 with 1 Axes>"
      ]
     },
     "metadata": {
      "needs_background": "light"
     },
     "output_type": "display_data"
    }
   ],
   "source": [
    "f = plt.figure()\n",
    "plt.title(\"Queue Length vs. Num of Virtual Clients \\n (Write-only, 3 Clients, 2 MWs, 3 Servers, CT=1, VC=[1..48])\")\n",
    "\n",
    "for worker in worker_list:\n",
    "    # extract values of interest\n",
    "    df_ql_cut = df_ql[(df_ql.worker == worker)]\n",
    "    \n",
    "    vcs = df_ql_cut['client']\n",
    "    tps = df_ql_cut['write_queueLength']\n",
    "    std = df_ql_cut['write_queueLength_std']\n",
    "    \n",
    "    plt.errorbar(x = vcs, y = tps, yerr = std, label = \"{} Workers\".format(worker), capsize = 4, marker='o')\n",
    "\n",
    "plt.grid(linestyle = \"dotted\")\n",
    "plt.ylabel(\"Average Queue Length (#elements)\")\n",
    "plt.xlabel(\"Number of Virtual Clients\")\n",
    "plt.xticks([0] + np.array(vcs))\n",
    "plt.ylim(bottom=0, top=np.max(df_ql['write_queueLength'])+10)\n",
    "plt.legend()\n",
    "\n",
    "ax = plt.gca()\n",
    "ax.yaxis.set_major_formatter(tick.FuncFormatter(y_fmt))\n",
    "\n",
    "plt.show()\n",
    "f.savefig(\"/Users/florianmorath/Desktop/ASL_project/scripts/3_ThroughputForWrites/processed_data/\"+date+\"/full_write_mw_queuelength_write.png\", dpi = 150)\n"
   ]
  },
  {
   "cell_type": "markdown",
   "metadata": {},
   "source": [
    "## Response-time breakdown histogram for write loads"
   ]
  },
  {
   "cell_type": "code",
   "execution_count": 11,
   "metadata": {},
   "outputs": [
    {
     "data": {
      "text/html": [
       "<div>\n",
       "<style scoped>\n",
       "    .dataframe tbody tr th:only-of-type {\n",
       "        vertical-align: middle;\n",
       "    }\n",
       "\n",
       "    .dataframe tbody tr th {\n",
       "        vertical-align: top;\n",
       "    }\n",
       "\n",
       "    .dataframe thead th {\n",
       "        text-align: right;\n",
       "    }\n",
       "</style>\n",
       "<table border=\"1\" class=\"dataframe\">\n",
       "  <thead>\n",
       "    <tr style=\"text-align: right;\">\n",
       "      <th></th>\n",
       "      <th>client</th>\n",
       "      <th>worker</th>\n",
       "      <th>write_netthreadTime</th>\n",
       "      <th>write_queueTime</th>\n",
       "      <th>write_workerPreTime</th>\n",
       "      <th>write_memcachedRTT</th>\n",
       "      <th>write_workerPostTime</th>\n",
       "    </tr>\n",
       "  </thead>\n",
       "  <tbody>\n",
       "    <tr>\n",
       "      <th>0</th>\n",
       "      <td>6</td>\n",
       "      <td>64</td>\n",
       "      <td>0.024734</td>\n",
       "      <td>0.096625</td>\n",
       "      <td>0.013236</td>\n",
       "      <td>1.133752</td>\n",
       "      <td>0.025566</td>\n",
       "    </tr>\n",
       "    <tr>\n",
       "      <th>1</th>\n",
       "      <td>192</td>\n",
       "      <td>64</td>\n",
       "      <td>0.056315</td>\n",
       "      <td>2.467186</td>\n",
       "      <td>0.175878</td>\n",
       "      <td>6.452495</td>\n",
       "      <td>0.333663</td>\n",
       "    </tr>\n",
       "  </tbody>\n",
       "</table>\n",
       "</div>"
      ],
      "text/plain": [
       "   client  worker  write_netthreadTime  write_queueTime  write_workerPreTime  \\\n",
       "0       6      64             0.024734         0.096625             0.013236   \n",
       "1     192      64             0.056315         2.467186             0.175878   \n",
       "\n",
       "   write_memcachedRTT  write_workerPostTime  \n",
       "0            1.133752              0.025566  \n",
       "1            6.452495              0.333663  "
      ]
     },
     "execution_count": 11,
     "metadata": {},
     "output_type": "execute_result"
    }
   ],
   "source": [
    "# read data into pandas dataframe\n",
    "df_b = pd.read_csv(base_path + 'full_write_mw_rt_breakdown.csv')\n",
    "df_b"
   ]
  },
  {
   "cell_type": "code",
   "execution_count": 12,
   "metadata": {},
   "outputs": [
    {
     "ename": "TypeError",
     "evalue": "'AxesSubplot' object does not support indexing",
     "output_type": "error",
     "traceback": [
      "\u001b[0;31m---------------------------------------------------------------------------\u001b[0m",
      "\u001b[0;31mTypeError\u001b[0m                                 Traceback (most recent call last)",
      "\u001b[0;32m<ipython-input-12-dfd1d6c31ec6>\u001b[0m in \u001b[0;36m<module>\u001b[0;34m\u001b[0m\n\u001b[1;32m     19\u001b[0m \u001b[0;34m\u001b[0m\u001b[0m\n\u001b[1;32m     20\u001b[0m     \u001b[0mwidth\u001b[0m \u001b[0;34m=\u001b[0m \u001b[0;36m15\u001b[0m       \u001b[0;31m# the width of the bars: can also be len(x) sequence\u001b[0m\u001b[0;34m\u001b[0m\u001b[0m\n\u001b[0;32m---> 21\u001b[0;31m     \u001b[0max\u001b[0m\u001b[0;34m[\u001b[0m\u001b[0mi\u001b[0m\u001b[0;34m]\u001b[0m\u001b[0;34m.\u001b[0m\u001b[0mbar\u001b[0m\u001b[0;34m(\u001b[0m\u001b[0mvcs\u001b[0m\u001b[0;34m,\u001b[0m \u001b[0mnet_time\u001b[0m\u001b[0;34m,\u001b[0m \u001b[0mwidth\u001b[0m\u001b[0;34m,\u001b[0m \u001b[0mlabel\u001b[0m\u001b[0;34m=\u001b[0m\u001b[0;34m'Netthread time'\u001b[0m\u001b[0;34m)\u001b[0m\u001b[0;34m\u001b[0m\u001b[0m\n\u001b[0m\u001b[1;32m     22\u001b[0m     \u001b[0max\u001b[0m\u001b[0;34m[\u001b[0m\u001b[0mi\u001b[0m\u001b[0;34m]\u001b[0m\u001b[0;34m.\u001b[0m\u001b[0mbar\u001b[0m\u001b[0;34m(\u001b[0m\u001b[0mvcs\u001b[0m\u001b[0;34m,\u001b[0m \u001b[0mqueue_time\u001b[0m\u001b[0;34m,\u001b[0m \u001b[0mwidth\u001b[0m\u001b[0;34m,\u001b[0m \u001b[0mbottom\u001b[0m\u001b[0;34m=\u001b[0m\u001b[0mnet_time\u001b[0m\u001b[0;34m,\u001b[0m \u001b[0mlabel\u001b[0m\u001b[0;34m=\u001b[0m\u001b[0;34m'Queue time'\u001b[0m\u001b[0;34m)\u001b[0m\u001b[0;34m\u001b[0m\u001b[0m\n\u001b[1;32m     23\u001b[0m     \u001b[0max\u001b[0m\u001b[0;34m[\u001b[0m\u001b[0mi\u001b[0m\u001b[0;34m]\u001b[0m\u001b[0;34m.\u001b[0m\u001b[0mbar\u001b[0m\u001b[0;34m(\u001b[0m\u001b[0mvcs\u001b[0m\u001b[0;34m,\u001b[0m \u001b[0mworkerPreTime\u001b[0m\u001b[0;34m,\u001b[0m \u001b[0mwidth\u001b[0m\u001b[0;34m,\u001b[0m \u001b[0mbottom\u001b[0m\u001b[0;34m=\u001b[0m\u001b[0mnet_time\u001b[0m\u001b[0;34m+\u001b[0m\u001b[0mqueue_time\u001b[0m\u001b[0;34m,\u001b[0m \u001b[0mlabel\u001b[0m\u001b[0;34m=\u001b[0m\u001b[0;34m'Worker preprocess'\u001b[0m\u001b[0;34m)\u001b[0m\u001b[0;34m\u001b[0m\u001b[0m\n",
      "\u001b[0;31mTypeError\u001b[0m: 'AxesSubplot' object does not support indexing"
     ]
    },
    {
     "data": {
      "image/png": "[encoded data removed]",
      "text/plain": [
       "<Figure size 1080x288 with 1 Axes>"
      ]
     },
     "metadata": {
      "needs_background": "light"
     },
     "output_type": "display_data"
    }
   ],
   "source": [
    "#f = plt.figure()\n",
    "f, ax = plt.subplots(1, len(worker_list), sharex='col', sharey='row')\n",
    "f.suptitle(\"Response-time vs. Num of Virtual Clients \\n (Write-only, 3 Clients, 2 MWs, 3 Servers, CT=1, VC=[1..48])\")\n",
    "f.subplots_adjust(top=0.8)\n",
    "f.set_figwidth(15)\n",
    "\n",
    "\n",
    "i=0\n",
    "for worker in worker_list:\n",
    "    # extract values of interest\n",
    "    df_b_cut = df_b[(df_b.worker == worker)]\n",
    "    \n",
    "    vcs = df_b_cut['client']\n",
    "    net_time = df_b_cut['write_netthreadTime']\n",
    "    queue_time = df_b_cut['write_queueTime']\n",
    "    workerPreTime = df_b_cut['write_workerPreTime']\n",
    "    memcachedRTT = df_b_cut['write_memcachedRTT']\n",
    "    workerPostTime = df_b_cut['write_workerPostTime']\n",
    "\n",
    "    width = 15       # the width of the bars: can also be len(x) sequence\n",
    "    ax[i].bar(vcs, net_time, width, label='Netthread time')\n",
    "    ax[i].bar(vcs, queue_time, width, bottom=net_time, label='Queue time')\n",
    "    ax[i].bar(vcs, workerPreTime, width, bottom=net_time+queue_time, label='Worker preprocess')\n",
    "    ax[i].bar(vcs, memcachedRTT, width, bottom=net_time+queue_time+workerPreTime, label='Memcached RTT')\n",
    "    ax[i].bar(vcs, workerPostTime, width, bottom=net_time+queue_time+workerPreTime+memcachedRTT, label='Worker postprocess')\n",
    "\n",
    "    ax[i].grid(linestyle = \"dotted\")\n",
    "    ax[i].set_ylabel(\"Average Response-time (ms)\")\n",
    "    ax[i].set_xlabel(\"Number of Virtual Clients\")\n",
    "    ax[i].set_xticks([0] + np.array(vcs))\n",
    "    ax[i].set_ylim(bottom=0)\n",
    "    ax[i].set_title('{} workers'.format(worker))\n",
    "    if i==0:\n",
    "        ax[i].legend()\n",
    "    \n",
    "    i += 1\n",
    "\n",
    "plt.show()\n",
    "f.savefig(\"/Users/florianmorath/Desktop/ASL_project/scripts/3_ThroughputForWrites/processed_data/\"+date+\"/full_write_mw_rt_breakdown_write.png\", dpi = 150)\n"
   ]
  },
  {
   "cell_type": "code",
   "execution_count": null,
   "metadata": {},
   "outputs": [],
   "source": []
  },
  {
   "cell_type": "code",
   "execution_count": null,
   "metadata": {},
   "outputs": [],
   "source": []
  },
  {
   "cell_type": "code",
   "execution_count": null,
   "metadata": {},
   "outputs": [],
   "source": []
  }
 ],
 "metadata": {
  "kernelspec": {
   "display_name": "Python 3",
   "language": "python",
   "name": "python3"
  },
  "language_info": {
   "codemirror_mode": {
    "name": "ipython",
    "version": 3
   },
   "file_extension": ".py",
   "mimetype": "text/x-python",
   "name": "python",
   "nbconvert_exporter": "python",
   "pygments_lexer": "ipython3",
   "version": "3.6.5"
  }
 },
 "nbformat": 4,
 "nbformat_minor": 2
}
