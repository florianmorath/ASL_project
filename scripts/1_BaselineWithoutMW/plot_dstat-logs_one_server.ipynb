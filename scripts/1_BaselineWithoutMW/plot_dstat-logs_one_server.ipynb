{
 "cells": [
  {
   "cell_type": "markdown",
   "metadata": {},
   "source": [
    "### This file plots the processed csv files with matplotlib"
   ]
  },
  {
   "cell_type": "markdown",
   "metadata": {},
   "source": [
    "Note: manually select date and file name in the corresponding section (either cpu, netsend or netrecv)"
   ]
  },
  {
   "cell_type": "code",
   "execution_count": 1,
   "metadata": {},
   "outputs": [],
   "source": [
    "import matplotlib\n",
    "import matplotlib.pyplot as plt\n",
    "import matplotlib.ticker as tick\n",
    "import numpy as np\n",
    "import pandas as pd"
   ]
  },
  {
   "cell_type": "markdown",
   "metadata": {},
   "source": [
    "## Adjust date of processed csv files"
   ]
  },
  {
   "cell_type": "code",
   "execution_count": 2,
   "metadata": {},
   "outputs": [],
   "source": [
    "date = '2018-10-21_20h12'\n",
    "base_path = '/Users/florianmorath/Desktop/ASL_project/scripts/1_BaselineWithoutMW/processed_data/one_server/' + date + '/'\n"
   ]
  },
  {
   "cell_type": "code",
   "execution_count": 3,
   "metadata": {},
   "outputs": [],
   "source": [
    "def y_fmt(tick_val, pos):\n",
    "    if tick_val > 1000000:\n",
    "        val = int(tick_val)/1000000\n",
    "        return str(val).rstrip('0') + ' M'\n",
    "    elif tick_val >= 1000:\n",
    "        val = int(tick_val) / 1000\n",
    "        return str(val).rstrip('0') + ' k'\n",
    "    else:\n",
    "        return tick_val"
   ]
  },
  {
   "cell_type": "markdown",
   "metadata": {},
   "source": [
    "## CPU utilization plot"
   ]
  },
  {
   "cell_type": "code",
   "execution_count": 7,
   "metadata": {},
   "outputs": [
    {
     "data": {
      "text/html": [
       "<div>\n",
       "<style scoped>\n",
       "    .dataframe tbody tr th:only-of-type {\n",
       "        vertical-align: middle;\n",
       "    }\n",
       "\n",
       "    .dataframe tbody tr th {\n",
       "        vertical-align: top;\n",
       "    }\n",
       "\n",
       "    .dataframe thead th {\n",
       "        text-align: right;\n",
       "    }\n",
       "</style>\n",
       "<table border=\"1\" class=\"dataframe\">\n",
       "  <thead>\n",
       "    <tr style=\"text-align: right;\">\n",
       "      <th></th>\n",
       "      <th>client</th>\n",
       "      <th>cpu_mean</th>\n",
       "      <th>cpu_std</th>\n",
       "    </tr>\n",
       "  </thead>\n",
       "  <tbody>\n",
       "    <tr>\n",
       "      <th>0</th>\n",
       "      <td>12</td>\n",
       "      <td>36.458629</td>\n",
       "      <td>4.141153</td>\n",
       "    </tr>\n",
       "    <tr>\n",
       "      <th>1</th>\n",
       "      <td>24</td>\n",
       "      <td>57.367516</td>\n",
       "      <td>0.478145</td>\n",
       "    </tr>\n",
       "    <tr>\n",
       "      <th>2</th>\n",
       "      <td>48</td>\n",
       "      <td>72.150723</td>\n",
       "      <td>0.250323</td>\n",
       "    </tr>\n",
       "    <tr>\n",
       "      <th>3</th>\n",
       "      <td>96</td>\n",
       "      <td>89.735944</td>\n",
       "      <td>0.071180</td>\n",
       "    </tr>\n",
       "    <tr>\n",
       "      <th>4</th>\n",
       "      <td>144</td>\n",
       "      <td>94.843207</td>\n",
       "      <td>0.277800</td>\n",
       "    </tr>\n",
       "    <tr>\n",
       "      <th>5</th>\n",
       "      <td>192</td>\n",
       "      <td>96.794962</td>\n",
       "      <td>0.186981</td>\n",
       "    </tr>\n",
       "    <tr>\n",
       "      <th>6</th>\n",
       "      <td>240</td>\n",
       "      <td>98.785737</td>\n",
       "      <td>0.111106</td>\n",
       "    </tr>\n",
       "    <tr>\n",
       "      <th>7</th>\n",
       "      <td>288</td>\n",
       "      <td>98.314390</td>\n",
       "      <td>0.141801</td>\n",
       "    </tr>\n",
       "    <tr>\n",
       "      <th>8</th>\n",
       "      <td>336</td>\n",
       "      <td>99.151493</td>\n",
       "      <td>0.150193</td>\n",
       "    </tr>\n",
       "  </tbody>\n",
       "</table>\n",
       "</div>"
      ],
      "text/plain": [
       "   client   cpu_mean   cpu_std\n",
       "0      12  36.458629  4.141153\n",
       "1      24  57.367516  0.478145\n",
       "2      48  72.150723  0.250323\n",
       "3      96  89.735944  0.071180\n",
       "4     144  94.843207  0.277800\n",
       "5     192  96.794962  0.186981\n",
       "6     240  98.785737  0.111106\n",
       "7     288  98.314390  0.141801\n",
       "8     336  99.151493  0.150193"
      ]
     },
     "execution_count": 7,
     "metadata": {},
     "output_type": "execute_result"
    }
   ],
   "source": [
    "# read data into pandas dataframe\n",
    "file_name = 'dstat_server_cpu_ratio_1:0.csv'\n",
    "df_c = pd.read_csv(base_path + file_name)\n",
    "df_c"
   ]
  },
  {
   "cell_type": "code",
   "execution_count": 8,
   "metadata": {},
   "outputs": [
    {
     "data": {
      "image/png": "[encoded data removed]",
      "text/plain": [
       "<Figure size 432x288 with 1 Axes>"
      ]
     },
     "metadata": {
      "needs_background": "light"
     },
     "output_type": "display_data"
    }
   ],
   "source": [
    "f = plt.figure()\n",
    "plt.title(\"CPU Utilization on Server vs. Num of Virtual Clients \\n (1 Server, 3 Clients, CT=2, VC=[1..32])\")\n",
    "\n",
    "vcs = df_c['client']\n",
    "ys = df_c['cpu_mean']\n",
    "std = df_c['cpu_std']\n",
    "plt.errorbar(x = vcs, y = ys, yerr = std, label = \"Write-only\", capsize = 4, ecolor='r', marker='o')\n",
    "\n",
    "plt.grid(linestyle = \"dotted\")\n",
    "plt.ylabel(\"CPU Usage (%)\")\n",
    "plt.xlabel(\"Number of Virtual Clients\")\n",
    "plt.xticks([0] + np.array(vcs))\n",
    "plt.ylim(bottom=0, top=100)\n",
    "plt.legend()\n",
    "\n",
    "ax = plt.gca()\n",
    "ax.yaxis.set_major_formatter(tick.FuncFormatter(y_fmt))\n",
    "\n",
    "plt.show()\n",
    "f.savefig(\"/Users/florianmorath/Desktop/ASL_project/scripts/1_BaselineWithoutMW/processed_data/one_server/\"+date+\"/\"+file_name[:-4]+\".png\", dpi = 150)"
   ]
  },
  {
   "cell_type": "markdown",
   "metadata": {},
   "source": [
    "## Network send activity plot"
   ]
  },
  {
   "cell_type": "code",
   "execution_count": 9,
   "metadata": {},
   "outputs": [
    {
     "data": {
      "text/html": [
       "<div>\n",
       "<style scoped>\n",
       "    .dataframe tbody tr th:only-of-type {\n",
       "        vertical-align: middle;\n",
       "    }\n",
       "\n",
       "    .dataframe tbody tr th {\n",
       "        vertical-align: top;\n",
       "    }\n",
       "\n",
       "    .dataframe thead th {\n",
       "        text-align: right;\n",
       "    }\n",
       "</style>\n",
       "<table border=\"1\" class=\"dataframe\">\n",
       "  <thead>\n",
       "    <tr style=\"text-align: right;\">\n",
       "      <th></th>\n",
       "      <th>client</th>\n",
       "      <th>netsend_mean</th>\n",
       "      <th>netsend_std</th>\n",
       "    </tr>\n",
       "  </thead>\n",
       "  <tbody>\n",
       "    <tr>\n",
       "      <th>0</th>\n",
       "      <td>12</td>\n",
       "      <td>1.254871e+07</td>\n",
       "      <td>10269.192918</td>\n",
       "    </tr>\n",
       "    <tr>\n",
       "      <th>1</th>\n",
       "      <td>24</td>\n",
       "      <td>1.253346e+07</td>\n",
       "      <td>1708.852494</td>\n",
       "    </tr>\n",
       "    <tr>\n",
       "      <th>2</th>\n",
       "      <td>48</td>\n",
       "      <td>1.253548e+07</td>\n",
       "      <td>12573.582136</td>\n",
       "    </tr>\n",
       "    <tr>\n",
       "      <th>3</th>\n",
       "      <td>96</td>\n",
       "      <td>1.254605e+07</td>\n",
       "      <td>5369.718439</td>\n",
       "    </tr>\n",
       "    <tr>\n",
       "      <th>4</th>\n",
       "      <td>144</td>\n",
       "      <td>1.305606e+07</td>\n",
       "      <td>15690.348349</td>\n",
       "    </tr>\n",
       "    <tr>\n",
       "      <th>5</th>\n",
       "      <td>192</td>\n",
       "      <td>1.362386e+07</td>\n",
       "      <td>23743.802215</td>\n",
       "    </tr>\n",
       "    <tr>\n",
       "      <th>6</th>\n",
       "      <td>240</td>\n",
       "      <td>1.411074e+07</td>\n",
       "      <td>13365.465066</td>\n",
       "    </tr>\n",
       "    <tr>\n",
       "      <th>7</th>\n",
       "      <td>288</td>\n",
       "      <td>1.451918e+07</td>\n",
       "      <td>7240.872430</td>\n",
       "    </tr>\n",
       "    <tr>\n",
       "      <th>8</th>\n",
       "      <td>336</td>\n",
       "      <td>1.501512e+07</td>\n",
       "      <td>101006.538713</td>\n",
       "    </tr>\n",
       "  </tbody>\n",
       "</table>\n",
       "</div>"
      ],
      "text/plain": [
       "   client  netsend_mean    netsend_std\n",
       "0      12  1.254871e+07   10269.192918\n",
       "1      24  1.253346e+07    1708.852494\n",
       "2      48  1.253548e+07   12573.582136\n",
       "3      96  1.254605e+07    5369.718439\n",
       "4     144  1.305606e+07   15690.348349\n",
       "5     192  1.362386e+07   23743.802215\n",
       "6     240  1.411074e+07   13365.465066\n",
       "7     288  1.451918e+07    7240.872430\n",
       "8     336  1.501512e+07  101006.538713"
      ]
     },
     "execution_count": 9,
     "metadata": {},
     "output_type": "execute_result"
    }
   ],
   "source": [
    "# read data into pandas dataframe\n",
    "file_name = 'dstat_server_netsend_ratio_0:1.csv'\n",
    "df_c = pd.read_csv(base_path + file_name)\n",
    "df_c"
   ]
  },
  {
   "cell_type": "code",
   "execution_count": 11,
   "metadata": {},
   "outputs": [
    {
     "data": {
      "image/png": "[encoded data removed]",
      "text/plain": [
       "<Figure size 432x288 with 1 Axes>"
      ]
     },
     "metadata": {
      "needs_background": "light"
     },
     "output_type": "display_data"
    }
   ],
   "source": [
    "f = plt.figure()\n",
    "plt.title(\"Network send on Server vs. Num of Virtual Clients \\n (1 Server, 3 Clients, CT=2, VC=[1..32])\")\n",
    "\n",
    "vcs = df_c['client']\n",
    "ys = df_c['netsend_mean']\n",
    "std = df_c['netsend_std']\n",
    "plt.errorbar(x = vcs, y = ys, yerr = std, label = \"Read-only\", capsize = 4, ecolor='r', marker='o')\n",
    "\n",
    "plt.grid(linestyle = \"dotted\")\n",
    "plt.ylabel(\"Network send (bytes)\")\n",
    "plt.xlabel(\"Number of Virtual Clients\")\n",
    "plt.xticks([0] + np.array(vcs))\n",
    "plt.ylim(bottom=0)\n",
    "plt.legend()\n",
    "\n",
    "ax = plt.gca()\n",
    "ax.yaxis.set_major_formatter(tick.FuncFormatter(y_fmt))\n",
    "\n",
    "plt.show()\n",
    "f.savefig(\"/Users/florianmorath/Desktop/ASL_project/scripts/1_BaselineWithoutMW/processed_data/one_server/\"+date+\"/\"+file_name[:-4]+\".png\", dpi = 150)"
   ]
  },
  {
   "cell_type": "markdown",
   "metadata": {},
   "source": [
    "## Network recv activity plot"
   ]
  },
  {
   "cell_type": "code",
   "execution_count": 9,
   "metadata": {},
   "outputs": [
    {
     "data": {
      "text/html": [
       "<div>\n",
       "<style scoped>\n",
       "    .dataframe tbody tr th:only-of-type {\n",
       "        vertical-align: middle;\n",
       "    }\n",
       "\n",
       "    .dataframe tbody tr th {\n",
       "        vertical-align: top;\n",
       "    }\n",
       "\n",
       "    .dataframe thead th {\n",
       "        text-align: right;\n",
       "    }\n",
       "</style>\n",
       "<table border=\"1\" class=\"dataframe\">\n",
       "  <thead>\n",
       "    <tr style=\"text-align: right;\">\n",
       "      <th></th>\n",
       "      <th>client</th>\n",
       "      <th>netrecv_mean</th>\n",
       "      <th>netrecv_std</th>\n",
       "    </tr>\n",
       "  </thead>\n",
       "  <tbody>\n",
       "    <tr>\n",
       "      <th>0</th>\n",
       "      <td>2</td>\n",
       "      <td>4.617249e+06</td>\n",
       "      <td>23006.428571</td>\n",
       "    </tr>\n",
       "    <tr>\n",
       "      <th>1</th>\n",
       "      <td>4</td>\n",
       "      <td>4.553825e+06</td>\n",
       "      <td>14818.285714</td>\n",
       "    </tr>\n",
       "  </tbody>\n",
       "</table>\n",
       "</div>"
      ],
      "text/plain": [
       "   client  netrecv_mean   netrecv_std\n",
       "0       2  4.617249e+06  23006.428571\n",
       "1       4  4.553825e+06  14818.285714"
      ]
     },
     "execution_count": 9,
     "metadata": {},
     "output_type": "execute_result"
    }
   ],
   "source": [
    "# read data into pandas dataframe\n",
    "file_name = 'dstat_client_netrecv_ratio_0:1.csv'\n",
    "df_c = pd.read_csv(base_path + file_name)\n",
    "df_c"
   ]
  },
  {
   "cell_type": "code",
   "execution_count": 10,
   "metadata": {},
   "outputs": [
    {
     "data": {
      "image/png": "[encoded data removed]",
      "text/plain": [
       "<Figure size 432x288 with 1 Axes>"
      ]
     },
     "metadata": {
      "needs_background": "light"
     },
     "output_type": "display_data"
    }
   ],
   "source": [
    "f = plt.figure()\n",
    "plt.title(\"Network recv on Client vs. Num of Virtual Clients \\n (1 Server, 3 Clients, CT=2, VC=[1..32])\")\n",
    "\n",
    "vcs = df_c['client']\n",
    "ys = df_c['netrecv_mean']\n",
    "std = df_c['netrecv_std']\n",
    "plt.errorbar(x = vcs, y = ys, yerr = std, label = \"Read-only\", capsize = 4, ecolor='r', marker='o')\n",
    "\n",
    "plt.grid(linestyle = \"dotted\")\n",
    "plt.ylabel(\"Network recv (bytes?)\")\n",
    "plt.xlabel(\"Number of Virtual Clients\")\n",
    "plt.xticks([0] + np.array(vcs))\n",
    "plt.ylim(bottom=0)\n",
    "plt.legend()\n",
    "\n",
    "\n",
    "ax = plt.gca()\n",
    "ax.yaxis.set_major_formatter(tick.FuncFormatter(y_fmt))\n",
    "\n",
    "plt.show()\n",
    "f.savefig(\"/Users/florianmorath/Desktop/ASL_project/scripts/1_BaselineWithoutMW/processed_data/one_server/\"+date+\"/\"+file_name[:-4]+\".png\", dpi = 150)"
   ]
  },
  {
   "cell_type": "code",
   "execution_count": null,
   "metadata": {},
   "outputs": [],
   "source": []
  }
 ],
 "metadata": {
  "kernelspec": {
   "display_name": "Python 3",
   "language": "python",
   "name": "python3"
  },
  "language_info": {
   "codemirror_mode": {
    "name": "ipython",
    "version": 3
   },
   "file_extension": ".py",
   "mimetype": "text/x-python",
   "name": "python",
   "nbconvert_exporter": "python",
   "pygments_lexer": "ipython3",
   "version": "3.6.5"
  }
 },
 "nbformat": 4,
 "nbformat_minor": 2
}
