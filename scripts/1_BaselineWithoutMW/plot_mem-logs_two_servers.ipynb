{
 "cells": [
  {
   "cell_type": "markdown",
   "metadata": {},
   "source": [
    "### This file plots the processed csv files with matplotlib"
   ]
  },
  {
   "cell_type": "code",
   "execution_count": 25,
   "metadata": {},
   "outputs": [],
   "source": [
    "import matplotlib\n",
    "import matplotlib.pyplot as plt\n",
    "import matplotlib.ticker as tick\n",
    "import numpy as np\n",
    "import pandas as pd"
   ]
  },
  {
   "cell_type": "markdown",
   "metadata": {},
   "source": [
    "## Adjust date of processed csv files"
   ]
  },
  {
   "cell_type": "code",
   "execution_count": 26,
   "metadata": {},
   "outputs": [],
   "source": [
    "date = '2018-12-06_10h49'\n",
    "base_path = '/Users/florianmorath/Desktop/ASL_project/scripts/1_BaselineWithoutMW/processed_data/two_servers/' + date + '/'\n",
    "\n"
   ]
  },
  {
   "cell_type": "markdown",
   "metadata": {},
   "source": [
    "## Throughput plot for read and write loads"
   ]
  },
  {
   "cell_type": "code",
   "execution_count": 27,
   "metadata": {},
   "outputs": [
    {
     "data": {
      "text/html": [
       "<div>\n",
       "<style scoped>\n",
       "    .dataframe tbody tr th:only-of-type {\n",
       "        vertical-align: middle;\n",
       "    }\n",
       "\n",
       "    .dataframe tbody tr th {\n",
       "        vertical-align: top;\n",
       "    }\n",
       "\n",
       "    .dataframe thead th {\n",
       "        text-align: right;\n",
       "    }\n",
       "</style>\n",
       "<table border=\"1\" class=\"dataframe\">\n",
       "  <thead>\n",
       "    <tr style=\"text-align: right;\">\n",
       "      <th></th>\n",
       "      <th>client</th>\n",
       "      <th>write_tp_mean</th>\n",
       "      <th>write_tp_std</th>\n",
       "      <th>read_tp_mean</th>\n",
       "      <th>read_tp_std</th>\n",
       "    </tr>\n",
       "  </thead>\n",
       "  <tbody>\n",
       "    <tr>\n",
       "      <th>0</th>\n",
       "      <td>2</td>\n",
       "      <td>2140.513333</td>\n",
       "      <td>50.433894</td>\n",
       "      <td>2143.086667</td>\n",
       "      <td>38.175423</td>\n",
       "    </tr>\n",
       "    <tr>\n",
       "      <th>1</th>\n",
       "      <td>8</td>\n",
       "      <td>5565.743333</td>\n",
       "      <td>174.837314</td>\n",
       "      <td>5524.366667</td>\n",
       "      <td>126.239626</td>\n",
       "    </tr>\n",
       "    <tr>\n",
       "      <th>2</th>\n",
       "      <td>16</td>\n",
       "      <td>5727.163333</td>\n",
       "      <td>15.887442</td>\n",
       "      <td>5650.313333</td>\n",
       "      <td>59.415643</td>\n",
       "    </tr>\n",
       "    <tr>\n",
       "      <th>3</th>\n",
       "      <td>32</td>\n",
       "      <td>5743.736667</td>\n",
       "      <td>122.324099</td>\n",
       "      <td>5701.416667</td>\n",
       "      <td>56.056995</td>\n",
       "    </tr>\n",
       "    <tr>\n",
       "      <th>4</th>\n",
       "      <td>48</td>\n",
       "      <td>5675.246667</td>\n",
       "      <td>100.239442</td>\n",
       "      <td>5684.263333</td>\n",
       "      <td>61.573857</td>\n",
       "    </tr>\n",
       "    <tr>\n",
       "      <th>5</th>\n",
       "      <td>64</td>\n",
       "      <td>5693.510000</td>\n",
       "      <td>107.210951</td>\n",
       "      <td>5700.650000</td>\n",
       "      <td>46.246425</td>\n",
       "    </tr>\n",
       "    <tr>\n",
       "      <th>6</th>\n",
       "      <td>80</td>\n",
       "      <td>5670.623333</td>\n",
       "      <td>104.179909</td>\n",
       "      <td>5709.810000</td>\n",
       "      <td>17.931181</td>\n",
       "    </tr>\n",
       "  </tbody>\n",
       "</table>\n",
       "</div>"
      ],
      "text/plain": [
       "   client  write_tp_mean  write_tp_std  read_tp_mean  read_tp_std\n",
       "0       2    2140.513333     50.433894   2143.086667    38.175423\n",
       "1       8    5565.743333    174.837314   5524.366667   126.239626\n",
       "2      16    5727.163333     15.887442   5650.313333    59.415643\n",
       "3      32    5743.736667    122.324099   5701.416667    56.056995\n",
       "4      48    5675.246667    100.239442   5684.263333    61.573857\n",
       "5      64    5693.510000    107.210951   5700.650000    46.246425\n",
       "6      80    5670.623333    104.179909   5709.810000    17.931181"
      ]
     },
     "execution_count": 27,
     "metadata": {},
     "output_type": "execute_result"
    }
   ],
   "source": [
    "# read data into pandas dataframe\n",
    "df_w = pd.read_csv(base_path + 'two_servers_mem_tp.csv')\n",
    "df_w = df_w[df_w['client']<=80]\n",
    "df_w"
   ]
  },
  {
   "cell_type": "code",
   "execution_count": 28,
   "metadata": {},
   "outputs": [],
   "source": [
    "def y_fmt(tick_val, pos):\n",
    "    if tick_val > 1000000:\n",
    "        val = int(tick_val)/1000000\n",
    "        return str(val).rstrip('0') + ' M'\n",
    "    elif tick_val >= 1000:\n",
    "        val = int(tick_val) / 1000\n",
    "        return str(val).rstrip('0') + ' k'\n",
    "    else:\n",
    "        return tick_val"
   ]
  },
  {
   "cell_type": "code",
   "execution_count": 29,
   "metadata": {},
   "outputs": [
    {
     "data": {
      "image/png": "[encoded data removed]",
      "text/plain": [
       "<Figure size 432x288 with 1 Axes>"
      ]
     },
     "metadata": {
      "needs_background": "light"
     },
     "output_type": "display_data"
    }
   ],
   "source": [
    "f = plt.figure()\n",
    "plt.title(\"Throughput vs. Num of Virtual Clients \\n (2 Servers, 1 Client, CT=1)\")\n",
    "\n",
    "vcs = df_w['client']\n",
    "\n",
    "# write-only\n",
    "tps = df_w['write_tp_mean']\n",
    "std = df_w['write_tp_std']\n",
    "plt.errorbar(x = vcs, y = tps, yerr = std, label = \"Write-Only\", capsize = 4, ecolor='r', marker='o')\n",
    "\n",
    "# read-only\n",
    "tps = df_w['read_tp_mean']\n",
    "std = df_w['read_tp_std']\n",
    "plt.errorbar(x = vcs, y = tps, yerr = std, label = \"Read-Only\", capsize = 4, ecolor='r', marker='o', color='orange')\n",
    "\n",
    "plt.grid(linestyle = \"dotted\")\n",
    "plt.ylabel(\"Average Throughput (ops/s)\")\n",
    "plt.xlabel(\"Number of Virtual Clients\")\n",
    "plt.xticks([0] + np.array(vcs))\n",
    "plt.ylim(bottom=0, top=7000)\n",
    "plt.legend()\n",
    "\n",
    "ax = plt.gca()\n",
    "ax.yaxis.set_major_formatter(tick.FuncFormatter(y_fmt))\n",
    "\n",
    "plt.show()\n",
    "f.savefig(\"/Users/florianmorath/Desktop/ASL_project/scripts/1_BaselineWithoutMW/processed_data/two_servers/\"+date+\"/two_servers_mem_tp.png\", dpi = 150)"
   ]
  },
  {
   "cell_type": "markdown",
   "metadata": {},
   "source": [
    "## Response-time plot for read and write loads"
   ]
  },
  {
   "cell_type": "code",
   "execution_count": 30,
   "metadata": {},
   "outputs": [
    {
     "data": {
      "text/html": [
       "<div>\n",
       "<style scoped>\n",
       "    .dataframe tbody tr th:only-of-type {\n",
       "        vertical-align: middle;\n",
       "    }\n",
       "\n",
       "    .dataframe tbody tr th {\n",
       "        vertical-align: top;\n",
       "    }\n",
       "\n",
       "    .dataframe thead th {\n",
       "        text-align: right;\n",
       "    }\n",
       "</style>\n",
       "<table border=\"1\" class=\"dataframe\">\n",
       "  <thead>\n",
       "    <tr style=\"text-align: right;\">\n",
       "      <th></th>\n",
       "      <th>client</th>\n",
       "      <th>write_rt_mean</th>\n",
       "      <th>write_rt_std</th>\n",
       "      <th>read_rt_mean</th>\n",
       "      <th>read_rt_std</th>\n",
       "    </tr>\n",
       "  </thead>\n",
       "  <tbody>\n",
       "    <tr>\n",
       "      <th>0</th>\n",
       "      <td>2</td>\n",
       "      <td>0.945000</td>\n",
       "      <td>0.024833</td>\n",
       "      <td>0.931667</td>\n",
       "      <td>0.020950</td>\n",
       "    </tr>\n",
       "    <tr>\n",
       "      <th>1</th>\n",
       "      <td>8</td>\n",
       "      <td>1.453333</td>\n",
       "      <td>0.043269</td>\n",
       "      <td>1.440000</td>\n",
       "      <td>0.032404</td>\n",
       "    </tr>\n",
       "    <tr>\n",
       "      <th>2</th>\n",
       "      <td>16</td>\n",
       "      <td>2.875000</td>\n",
       "      <td>0.017795</td>\n",
       "      <td>2.820000</td>\n",
       "      <td>0.025495</td>\n",
       "    </tr>\n",
       "    <tr>\n",
       "      <th>3</th>\n",
       "      <td>32</td>\n",
       "      <td>5.620000</td>\n",
       "      <td>0.090921</td>\n",
       "      <td>5.653333</td>\n",
       "      <td>0.020548</td>\n",
       "    </tr>\n",
       "    <tr>\n",
       "      <th>4</th>\n",
       "      <td>48</td>\n",
       "      <td>8.441667</td>\n",
       "      <td>0.129893</td>\n",
       "      <td>8.446667</td>\n",
       "      <td>0.106171</td>\n",
       "    </tr>\n",
       "    <tr>\n",
       "      <th>5</th>\n",
       "      <td>64</td>\n",
       "      <td>11.251667</td>\n",
       "      <td>0.202663</td>\n",
       "      <td>11.220000</td>\n",
       "      <td>0.091196</td>\n",
       "    </tr>\n",
       "    <tr>\n",
       "      <th>6</th>\n",
       "      <td>80</td>\n",
       "      <td>14.118333</td>\n",
       "      <td>0.258242</td>\n",
       "      <td>14.003333</td>\n",
       "      <td>0.045886</td>\n",
       "    </tr>\n",
       "  </tbody>\n",
       "</table>\n",
       "</div>"
      ],
      "text/plain": [
       "   client  write_rt_mean  write_rt_std  read_rt_mean  read_rt_std\n",
       "0       2       0.945000      0.024833      0.931667     0.020950\n",
       "1       8       1.453333      0.043269      1.440000     0.032404\n",
       "2      16       2.875000      0.017795      2.820000     0.025495\n",
       "3      32       5.620000      0.090921      5.653333     0.020548\n",
       "4      48       8.441667      0.129893      8.446667     0.106171\n",
       "5      64      11.251667      0.202663     11.220000     0.091196\n",
       "6      80      14.118333      0.258242     14.003333     0.045886"
      ]
     },
     "execution_count": 30,
     "metadata": {},
     "output_type": "execute_result"
    }
   ],
   "source": [
    "# read data into pandas dataframe\n",
    "df_r = pd.read_csv(base_path + 'two_servers_mem_rt.csv')\n",
    "df_r = df_r[df_r['client']<=80]\n",
    "df_r"
   ]
  },
  {
   "cell_type": "code",
   "execution_count": 31,
   "metadata": {},
   "outputs": [
    {
     "data": {
      "image/png": "[encoded data removed]",
      "text/plain": [
       "<Figure size 432x288 with 1 Axes>"
      ]
     },
     "metadata": {
      "needs_background": "light"
     },
     "output_type": "display_data"
    }
   ],
   "source": [
    "f = plt.figure()\n",
    "plt.title(\"Response-time vs. Num of Virtual Clients \\n (2 Servers, 1 Client, CT=1)\")\n",
    "\n",
    "vcs = df_r['client']\n",
    "\n",
    "# write-only\n",
    "tps = df_r['write_rt_mean']\n",
    "std = df_r['write_rt_std']\n",
    "plt.errorbar(x = vcs, y = tps, yerr = std, label = \"Write-Only\", capsize = 4, ecolor='r', marker='o')\n",
    "\n",
    "# read-only\n",
    "tps = df_r['read_rt_mean']\n",
    "std = df_r['read_rt_std']\n",
    "plt.errorbar(x = vcs, y = tps, yerr = std, label = \"Read-Only\", capsize = 4, ecolor='r', marker='o', color='orange')\n",
    "\n",
    "plt.grid(linestyle = \"dotted\")\n",
    "plt.ylabel(\"Average Response-time (ms)\")\n",
    "plt.xlabel(\"Number of Virtual Clients\")\n",
    "plt.xticks([0] + np.array(vcs))\n",
    "plt.ylim(bottom=0)\n",
    "plt.legend()\n",
    "\n",
    "ax = plt.gca()\n",
    "ax.yaxis.set_major_formatter(tick.FuncFormatter(y_fmt))\n",
    "\n",
    "plt.show()\n",
    "f.savefig(\"/Users/florianmorath/Desktop/ASL_project/scripts/1_BaselineWithoutMW/processed_data/two_servers/\"+date+\"/two_servers_mem_rt.png\", dpi = 150)"
   ]
  },
  {
   "cell_type": "code",
   "execution_count": null,
   "metadata": {},
   "outputs": [],
   "source": []
  },
  {
   "cell_type": "code",
   "execution_count": null,
   "metadata": {},
   "outputs": [],
   "source": []
  }
 ],
 "metadata": {
  "kernelspec": {
   "display_name": "Python 3",
   "language": "python",
   "name": "python3"
  },
  "language_info": {
   "codemirror_mode": {
    "name": "ipython",
    "version": 3
   },
   "file_extension": ".py",
   "mimetype": "text/x-python",
   "name": "python",
   "nbconvert_exporter": "python",
   "pygments_lexer": "ipython3",
   "version": "3.7.1"
  }
 },
 "nbformat": 4,
 "nbformat_minor": 2
}
