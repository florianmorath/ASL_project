{
 "cells": [
  {
   "cell_type": "markdown",
   "metadata": {},
   "source": [
    "### This file plots the processed csv files with matplotlib"
   ]
  },
  {
   "cell_type": "code",
   "execution_count": 1,
   "metadata": {},
   "outputs": [],
   "source": [
    "import matplotlib\n",
    "import matplotlib.pyplot as plt\n",
    "import matplotlib.ticker as tick\n",
    "import numpy as np\n",
    "import pandas as pd"
   ]
  },
  {
   "cell_type": "markdown",
   "metadata": {},
   "source": [
    "## Adjust date of processed csv files"
   ]
  },
  {
   "cell_type": "code",
   "execution_count": 4,
   "metadata": {},
   "outputs": [],
   "source": [
    "date = '2018-10-23_14h07'\n",
    "base_path = '/Users/florianmorath/Desktop/ASL_project/scripts/1_BaselineWithoutMW/processed_data/two_servers/' + date + '/'\n",
    "\n"
   ]
  },
  {
   "cell_type": "markdown",
   "metadata": {},
   "source": [
    "## Throughput plot for read and write loads"
   ]
  },
  {
   "cell_type": "code",
   "execution_count": 5,
   "metadata": {},
   "outputs": [
    {
     "data": {
      "text/html": [
       "<div>\n",
       "<style scoped>\n",
       "    .dataframe tbody tr th:only-of-type {\n",
       "        vertical-align: middle;\n",
       "    }\n",
       "\n",
       "    .dataframe tbody tr th {\n",
       "        vertical-align: top;\n",
       "    }\n",
       "\n",
       "    .dataframe thead th {\n",
       "        text-align: right;\n",
       "    }\n",
       "</style>\n",
       "<table border=\"1\" class=\"dataframe\">\n",
       "  <thead>\n",
       "    <tr style=\"text-align: right;\">\n",
       "      <th></th>\n",
       "      <th>client</th>\n",
       "      <th>write_tp_mean</th>\n",
       "      <th>write_tp_std</th>\n",
       "      <th>read_tp_mean</th>\n",
       "      <th>read_tp_std</th>\n",
       "    </tr>\n",
       "  </thead>\n",
       "  <tbody>\n",
       "    <tr>\n",
       "      <th>0</th>\n",
       "      <td>4</td>\n",
       "      <td>5960.046667</td>\n",
       "      <td>4.771033</td>\n",
       "      <td>5399.843333</td>\n",
       "      <td>92.942134</td>\n",
       "    </tr>\n",
       "    <tr>\n",
       "      <th>1</th>\n",
       "      <td>8</td>\n",
       "      <td>5967.856667</td>\n",
       "      <td>0.823988</td>\n",
       "      <td>5850.006667</td>\n",
       "      <td>9.865459</td>\n",
       "    </tr>\n",
       "    <tr>\n",
       "      <th>2</th>\n",
       "      <td>16</td>\n",
       "      <td>5976.800000</td>\n",
       "      <td>43.363374</td>\n",
       "      <td>5848.666667</td>\n",
       "      <td>40.051967</td>\n",
       "    </tr>\n",
       "    <tr>\n",
       "      <th>3</th>\n",
       "      <td>32</td>\n",
       "      <td>5860.116667</td>\n",
       "      <td>28.398498</td>\n",
       "      <td>5870.883333</td>\n",
       "      <td>6.252596</td>\n",
       "    </tr>\n",
       "    <tr>\n",
       "      <th>4</th>\n",
       "      <td>48</td>\n",
       "      <td>5888.290000</td>\n",
       "      <td>4.081478</td>\n",
       "      <td>5853.300000</td>\n",
       "      <td>28.977240</td>\n",
       "    </tr>\n",
       "    <tr>\n",
       "      <th>5</th>\n",
       "      <td>64</td>\n",
       "      <td>5886.736667</td>\n",
       "      <td>6.062927</td>\n",
       "      <td>5849.420000</td>\n",
       "      <td>32.243706</td>\n",
       "    </tr>\n",
       "    <tr>\n",
       "      <th>6</th>\n",
       "      <td>80</td>\n",
       "      <td>5889.846667</td>\n",
       "      <td>7.343847</td>\n",
       "      <td>5897.160000</td>\n",
       "      <td>29.436869</td>\n",
       "    </tr>\n",
       "    <tr>\n",
       "      <th>7</th>\n",
       "      <td>96</td>\n",
       "      <td>5887.216667</td>\n",
       "      <td>7.228233</td>\n",
       "      <td>5886.333333</td>\n",
       "      <td>3.567579</td>\n",
       "    </tr>\n",
       "    <tr>\n",
       "      <th>8</th>\n",
       "      <td>112</td>\n",
       "      <td>5890.203333</td>\n",
       "      <td>6.845662</td>\n",
       "      <td>5888.870000</td>\n",
       "      <td>4.932687</td>\n",
       "    </tr>\n",
       "  </tbody>\n",
       "</table>\n",
       "</div>"
      ],
      "text/plain": [
       "   client  write_tp_mean  write_tp_std  read_tp_mean  read_tp_std\n",
       "0       4    5960.046667      4.771033   5399.843333    92.942134\n",
       "1       8    5967.856667      0.823988   5850.006667     9.865459\n",
       "2      16    5976.800000     43.363374   5848.666667    40.051967\n",
       "3      32    5860.116667     28.398498   5870.883333     6.252596\n",
       "4      48    5888.290000      4.081478   5853.300000    28.977240\n",
       "5      64    5886.736667      6.062927   5849.420000    32.243706\n",
       "6      80    5889.846667      7.343847   5897.160000    29.436869\n",
       "7      96    5887.216667      7.228233   5886.333333     3.567579\n",
       "8     112    5890.203333      6.845662   5888.870000     4.932687"
      ]
     },
     "execution_count": 5,
     "metadata": {},
     "output_type": "execute_result"
    }
   ],
   "source": [
    "# read data into pandas dataframe\n",
    "df_w = pd.read_csv(base_path + 'two_servers_mem_tp.csv')\n",
    "df_w"
   ]
  },
  {
   "cell_type": "code",
   "execution_count": 6,
   "metadata": {},
   "outputs": [],
   "source": [
    "def y_fmt(tick_val, pos):\n",
    "    if tick_val > 1000000:\n",
    "        val = int(tick_val)/1000000\n",
    "        return str(val).rstrip('0') + ' M'\n",
    "    elif tick_val >= 1000:\n",
    "        val = int(tick_val) / 1000\n",
    "        return str(val).rstrip('0') + ' k'\n",
    "    else:\n",
    "        return tick_val"
   ]
  },
  {
   "cell_type": "code",
   "execution_count": 10,
   "metadata": {},
   "outputs": [
    {
     "data": {
      "image/png": "[encoded data removed]",
      "text/plain": [
       "<Figure size 432x288 with 1 Axes>"
      ]
     },
     "metadata": {
      "needs_background": "light"
     },
     "output_type": "display_data"
    }
   ],
   "source": [
    "f = plt.figure()\n",
    "plt.title(\"Throughput vs. Num of Virtual Clients \\n (2 Servers, 1 Client, CT=1, VC=[1..56])\")\n",
    "\n",
    "vcs = df_w['client']\n",
    "\n",
    "# write-only\n",
    "tps = df_w['write_tp_mean']\n",
    "std = df_w['write_tp_std']\n",
    "plt.errorbar(x = vcs, y = tps, yerr = std, label = \"Write-Only\", capsize = 4, ecolor='r', marker='o')\n",
    "\n",
    "# read-only\n",
    "tps = df_w['read_tp_mean']\n",
    "std = df_w['read_tp_std']\n",
    "plt.errorbar(x = vcs, y = tps, yerr = std, label = \"Read-Only\", capsize = 4, ecolor='r', marker='o', color='orange')\n",
    "\n",
    "plt.grid(linestyle = \"dotted\")\n",
    "plt.ylabel(\"Average Throughput (ops/s)\")\n",
    "plt.xlabel(\"Number of Virtual Clients\")\n",
    "plt.xticks([0] + np.array(vcs))\n",
    "plt.ylim(bottom=0, top=7000)\n",
    "plt.legend()\n",
    "\n",
    "ax = plt.gca()\n",
    "ax.yaxis.set_major_formatter(tick.FuncFormatter(y_fmt))\n",
    "\n",
    "plt.show()\n",
    "f.savefig(\"/Users/florianmorath/Desktop/ASL_project/scripts/1_BaselineWithoutMW/processed_data/two_servers/\"+date+\"/two_servers_mem_tp.png\", dpi = 150)"
   ]
  },
  {
   "cell_type": "markdown",
   "metadata": {},
   "source": [
    "## Response-time plot for read and write loads"
   ]
  },
  {
   "cell_type": "code",
   "execution_count": 8,
   "metadata": {},
   "outputs": [
    {
     "data": {
      "text/html": [
       "<div>\n",
       "<style scoped>\n",
       "    .dataframe tbody tr th:only-of-type {\n",
       "        vertical-align: middle;\n",
       "    }\n",
       "\n",
       "    .dataframe tbody tr th {\n",
       "        vertical-align: top;\n",
       "    }\n",
       "\n",
       "    .dataframe thead th {\n",
       "        text-align: right;\n",
       "    }\n",
       "</style>\n",
       "<table border=\"1\" class=\"dataframe\">\n",
       "  <thead>\n",
       "    <tr style=\"text-align: right;\">\n",
       "      <th></th>\n",
       "      <th>client</th>\n",
       "      <th>write_rt_mean</th>\n",
       "      <th>write_rt_std</th>\n",
       "      <th>read_rt_mean</th>\n",
       "      <th>read_rt_std</th>\n",
       "    </tr>\n",
       "  </thead>\n",
       "  <tbody>\n",
       "    <tr>\n",
       "      <th>0</th>\n",
       "      <td>4</td>\n",
       "      <td>0.730000</td>\n",
       "      <td>0.000000</td>\n",
       "      <td>0.741667</td>\n",
       "      <td>0.014337</td>\n",
       "    </tr>\n",
       "    <tr>\n",
       "      <th>1</th>\n",
       "      <td>8</td>\n",
       "      <td>1.428333</td>\n",
       "      <td>0.015456</td>\n",
       "      <td>1.361667</td>\n",
       "      <td>0.002357</td>\n",
       "    </tr>\n",
       "    <tr>\n",
       "      <th>2</th>\n",
       "      <td>16</td>\n",
       "      <td>2.818333</td>\n",
       "      <td>0.010274</td>\n",
       "      <td>2.726667</td>\n",
       "      <td>0.002357</td>\n",
       "    </tr>\n",
       "    <tr>\n",
       "      <th>3</th>\n",
       "      <td>32</td>\n",
       "      <td>5.616667</td>\n",
       "      <td>0.010274</td>\n",
       "      <td>5.446667</td>\n",
       "      <td>0.006236</td>\n",
       "    </tr>\n",
       "    <tr>\n",
       "      <th>4</th>\n",
       "      <td>48</td>\n",
       "      <td>8.393333</td>\n",
       "      <td>0.044783</td>\n",
       "      <td>8.166667</td>\n",
       "      <td>0.006236</td>\n",
       "    </tr>\n",
       "    <tr>\n",
       "      <th>5</th>\n",
       "      <td>64</td>\n",
       "      <td>11.161667</td>\n",
       "      <td>0.006236</td>\n",
       "      <td>10.895000</td>\n",
       "      <td>0.007071</td>\n",
       "    </tr>\n",
       "    <tr>\n",
       "      <th>6</th>\n",
       "      <td>80</td>\n",
       "      <td>13.696667</td>\n",
       "      <td>0.002357</td>\n",
       "      <td>13.610000</td>\n",
       "      <td>0.004082</td>\n",
       "    </tr>\n",
       "    <tr>\n",
       "      <th>7</th>\n",
       "      <td>96</td>\n",
       "      <td>16.306667</td>\n",
       "      <td>0.018856</td>\n",
       "      <td>16.305000</td>\n",
       "      <td>0.010801</td>\n",
       "    </tr>\n",
       "    <tr>\n",
       "      <th>8</th>\n",
       "      <td>112</td>\n",
       "      <td>19.025000</td>\n",
       "      <td>0.024833</td>\n",
       "      <td>19.015000</td>\n",
       "      <td>0.014720</td>\n",
       "    </tr>\n",
       "  </tbody>\n",
       "</table>\n",
       "</div>"
      ],
      "text/plain": [
       "   client  write_rt_mean  write_rt_std  read_rt_mean  read_rt_std\n",
       "0       4       0.730000      0.000000      0.741667     0.014337\n",
       "1       8       1.428333      0.015456      1.361667     0.002357\n",
       "2      16       2.818333      0.010274      2.726667     0.002357\n",
       "3      32       5.616667      0.010274      5.446667     0.006236\n",
       "4      48       8.393333      0.044783      8.166667     0.006236\n",
       "5      64      11.161667      0.006236     10.895000     0.007071\n",
       "6      80      13.696667      0.002357     13.610000     0.004082\n",
       "7      96      16.306667      0.018856     16.305000     0.010801\n",
       "8     112      19.025000      0.024833     19.015000     0.014720"
      ]
     },
     "execution_count": 8,
     "metadata": {},
     "output_type": "execute_result"
    }
   ],
   "source": [
    "# read data into pandas dataframe\n",
    "df_r = pd.read_csv(base_path + 'two_servers_mem_rt.csv')\n",
    "df_r"
   ]
  },
  {
   "cell_type": "code",
   "execution_count": 9,
   "metadata": {},
   "outputs": [
    {
     "data": {
      "image/png": "[encoded data removed]",
      "text/plain": [
       "<Figure size 432x288 with 1 Axes>"
      ]
     },
     "metadata": {
      "needs_background": "light"
     },
     "output_type": "display_data"
    }
   ],
   "source": [
    "f = plt.figure()\n",
    "plt.title(\"Response-time vs. Num of Virtual Clients \\n (2 Servers, 1 Client, CT=1, VC=[1..56])\")\n",
    "\n",
    "vcs = df_r['client']\n",
    "\n",
    "# write-only\n",
    "tps = df_r['write_rt_mean']\n",
    "std = df_r['write_rt_std']\n",
    "plt.errorbar(x = vcs, y = tps, yerr = std, label = \"Write-Only\", capsize = 4, ecolor='r', marker='o')\n",
    "\n",
    "# read-only\n",
    "tps = df_r['read_rt_mean']\n",
    "std = df_r['read_rt_std']\n",
    "plt.errorbar(x = vcs, y = tps, yerr = std, label = \"Read-Only\", capsize = 4, ecolor='r', marker='o', color='orange')\n",
    "\n",
    "plt.grid(linestyle = \"dotted\")\n",
    "plt.ylabel(\"Average Response-time (ms)\")\n",
    "plt.xlabel(\"Number of Virtual Clients\")\n",
    "plt.xticks([0] + np.array(vcs))\n",
    "plt.ylim(bottom=0)\n",
    "plt.legend()\n",
    "\n",
    "ax = plt.gca()\n",
    "ax.yaxis.set_major_formatter(tick.FuncFormatter(y_fmt))\n",
    "\n",
    "plt.show()\n",
    "f.savefig(\"/Users/florianmorath/Desktop/ASL_project/scripts/1_BaselineWithoutMW/processed_data/two_servers/\"+date+\"/two_servers_mem_rt.png\", dpi = 150)"
   ]
  },
  {
   "cell_type": "code",
   "execution_count": null,
   "metadata": {},
   "outputs": [],
   "source": []
  }
 ],
 "metadata": {
  "kernelspec": {
   "display_name": "Python 3",
   "language": "python",
   "name": "python3"
  },
  "language_info": {
   "codemirror_mode": {
    "name": "ipython",
    "version": 3
   },
   "file_extension": ".py",
   "mimetype": "text/x-python",
   "name": "python",
   "nbconvert_exporter": "python",
   "pygments_lexer": "ipython3",
   "version": "3.6.5"
  }
 },
 "nbformat": 4,
 "nbformat_minor": 2
}
