{
 "cells": [
  {
   "cell_type": "markdown",
   "metadata": {},
   "source": [
    "### This file plots the processed csv files with matplotlib"
   ]
  },
  {
   "cell_type": "code",
   "execution_count": 1,
   "metadata": {},
   "outputs": [],
   "source": [
    "import matplotlib\n",
    "import matplotlib.pyplot as plt\n",
    "import matplotlib.ticker as tick\n",
    "import numpy as np\n",
    "import pandas as pd"
   ]
  },
  {
   "cell_type": "markdown",
   "metadata": {},
   "source": [
    "## Adjust date of processed csv files"
   ]
  },
  {
   "cell_type": "code",
   "execution_count": 2,
   "metadata": {},
   "outputs": [],
   "source": [
    "date = '2018-10-21_20h12'\n",
    "base_path = '/Users/florianmorath/Desktop/ASL_project/scripts/1_BaselineWithoutMW/processed_data/two_servers/' + date + '/'\n",
    "\n"
   ]
  },
  {
   "cell_type": "markdown",
   "metadata": {},
   "source": [
    "## Throughput plot for read and write loads"
   ]
  },
  {
   "cell_type": "code",
   "execution_count": 3,
   "metadata": {},
   "outputs": [
    {
     "data": {
      "text/html": [
       "<div>\n",
       "<style scoped>\n",
       "    .dataframe tbody tr th:only-of-type {\n",
       "        vertical-align: middle;\n",
       "    }\n",
       "\n",
       "    .dataframe tbody tr th {\n",
       "        vertical-align: top;\n",
       "    }\n",
       "\n",
       "    .dataframe thead th {\n",
       "        text-align: right;\n",
       "    }\n",
       "</style>\n",
       "<table border=\"1\" class=\"dataframe\">\n",
       "  <thead>\n",
       "    <tr style=\"text-align: right;\">\n",
       "      <th></th>\n",
       "      <th>client</th>\n",
       "      <th>write_tp_mean</th>\n",
       "      <th>write_tp_std</th>\n",
       "      <th>read_tp_mean</th>\n",
       "      <th>read_tp_std</th>\n",
       "    </tr>\n",
       "  </thead>\n",
       "  <tbody>\n",
       "    <tr>\n",
       "      <th>0</th>\n",
       "      <td>12</td>\n",
       "      <td>9947.553333</td>\n",
       "      <td>72.190791</td>\n",
       "      <td>2945.853333</td>\n",
       "      <td>2.557529</td>\n",
       "    </tr>\n",
       "    <tr>\n",
       "      <th>1</th>\n",
       "      <td>24</td>\n",
       "      <td>11120.603333</td>\n",
       "      <td>18.342131</td>\n",
       "      <td>2944.166667</td>\n",
       "      <td>0.747321</td>\n",
       "    </tr>\n",
       "    <tr>\n",
       "      <th>2</th>\n",
       "      <td>48</td>\n",
       "      <td>13066.150000</td>\n",
       "      <td>129.464119</td>\n",
       "      <td>2934.293333</td>\n",
       "      <td>29.533317</td>\n",
       "    </tr>\n",
       "    <tr>\n",
       "      <th>3</th>\n",
       "      <td>96</td>\n",
       "      <td>15624.403333</td>\n",
       "      <td>50.798804</td>\n",
       "      <td>2924.296667</td>\n",
       "      <td>16.856675</td>\n",
       "    </tr>\n",
       "    <tr>\n",
       "      <th>4</th>\n",
       "      <td>144</td>\n",
       "      <td>16493.456667</td>\n",
       "      <td>101.790879</td>\n",
       "      <td>2933.376667</td>\n",
       "      <td>6.351170</td>\n",
       "    </tr>\n",
       "    <tr>\n",
       "      <th>5</th>\n",
       "      <td>192</td>\n",
       "      <td>16781.750000</td>\n",
       "      <td>69.410255</td>\n",
       "      <td>2928.560000</td>\n",
       "      <td>3.176445</td>\n",
       "    </tr>\n",
       "    <tr>\n",
       "      <th>6</th>\n",
       "      <td>240</td>\n",
       "      <td>16798.276667</td>\n",
       "      <td>40.505218</td>\n",
       "      <td>2941.490000</td>\n",
       "      <td>12.631991</td>\n",
       "    </tr>\n",
       "    <tr>\n",
       "      <th>7</th>\n",
       "      <td>288</td>\n",
       "      <td>16492.956667</td>\n",
       "      <td>38.359455</td>\n",
       "      <td>2929.996667</td>\n",
       "      <td>14.839646</td>\n",
       "    </tr>\n",
       "    <tr>\n",
       "      <th>8</th>\n",
       "      <td>336</td>\n",
       "      <td>16458.993333</td>\n",
       "      <td>30.930408</td>\n",
       "      <td>2960.676667</td>\n",
       "      <td>39.633548</td>\n",
       "    </tr>\n",
       "  </tbody>\n",
       "</table>\n",
       "</div>"
      ],
      "text/plain": [
       "   client  write_tp_mean  write_tp_std  read_tp_mean  read_tp_std\n",
       "0      12    9947.553333     72.190791   2945.853333     2.557529\n",
       "1      24   11120.603333     18.342131   2944.166667     0.747321\n",
       "2      48   13066.150000    129.464119   2934.293333    29.533317\n",
       "3      96   15624.403333     50.798804   2924.296667    16.856675\n",
       "4     144   16493.456667    101.790879   2933.376667     6.351170\n",
       "5     192   16781.750000     69.410255   2928.560000     3.176445\n",
       "6     240   16798.276667     40.505218   2941.490000    12.631991\n",
       "7     288   16492.956667     38.359455   2929.996667    14.839646\n",
       "8     336   16458.993333     30.930408   2960.676667    39.633548"
      ]
     },
     "execution_count": 3,
     "metadata": {},
     "output_type": "execute_result"
    }
   ],
   "source": [
    "# read data into pandas dataframe\n",
    "df_w = pd.read_csv(base_path + 'two_servers_mem_tp.csv')\n",
    "df_w"
   ]
  },
  {
   "cell_type": "code",
   "execution_count": 13,
   "metadata": {},
   "outputs": [],
   "source": [
    "def y_fmt(tick_val, pos):\n",
    "    if tick_val > 1000000:\n",
    "        val = int(tick_val)/1000000\n",
    "        return str(val).rstrip('0') + ' M'\n",
    "    elif tick_val >= 1000:\n",
    "        val = int(tick_val) / 1000\n",
    "        return str(val).rstrip('0') + ' k'\n",
    "    else:\n",
    "        return tick_val"
   ]
  },
  {
   "cell_type": "code",
   "execution_count": 17,
   "metadata": {},
   "outputs": [
    {
     "data": {
      "image/png": "[encoded data removed]",
      "text/plain": [
       "<Figure size 432x288 with 1 Axes>"
      ]
     },
     "metadata": {
      "needs_background": "light"
     },
     "output_type": "display_data"
    }
   ],
   "source": [
    "f = plt.figure()\n",
    "plt.title(\"Throughput vs. Num of Virtual Clients \\n (2 Server, 1 Client, CT=1, VC=[1..56])\")\n",
    "\n",
    "vcs = df_w['client']\n",
    "\n",
    "# write-only\n",
    "tps = df_w['write_tp_mean']\n",
    "std = df_w['write_tp_std']\n",
    "plt.errorbar(x = vcs, y = tps, yerr = std, label = \"Write-Only\", capsize = 4, ecolor='r', marker='o')\n",
    "\n",
    "# read-only\n",
    "tps = df_w['read_tp_mean']\n",
    "std = df_w['read_tp_std']\n",
    "plt.errorbar(x = vcs, y = tps, yerr = std, label = \"Read-Only\", capsize = 4, ecolor='r', marker='o', color='orange')\n",
    "\n",
    "plt.grid(linestyle = \"dotted\")\n",
    "plt.ylabel(\"Average Throughput (ops/s)\")\n",
    "plt.xlabel(\"Number of Virtual Clients\")\n",
    "plt.xticks([0] + np.array(vcs))\n",
    "plt.ylim(bottom=0)\n",
    "plt.legend()\n",
    "\n",
    "ax = plt.gca()\n",
    "ax.yaxis.set_major_formatter(tick.FuncFormatter(y_fmt))\n",
    "\n",
    "plt.show()\n",
    "f.savefig(\"/Users/florianmorath/Desktop/ASL_project/scripts/1_BaselineWithoutMW/processed_data/two_servers/\"+date+\"/two_servers_mem_tp.png\", dpi = 150)"
   ]
  },
  {
   "cell_type": "markdown",
   "metadata": {},
   "source": [
    "## Response-time plot for read and write loads"
   ]
  },
  {
   "cell_type": "code",
   "execution_count": 18,
   "metadata": {},
   "outputs": [
    {
     "data": {
      "text/html": [
       "<div>\n",
       "<style scoped>\n",
       "    .dataframe tbody tr th:only-of-type {\n",
       "        vertical-align: middle;\n",
       "    }\n",
       "\n",
       "    .dataframe tbody tr th {\n",
       "        vertical-align: top;\n",
       "    }\n",
       "\n",
       "    .dataframe thead th {\n",
       "        text-align: right;\n",
       "    }\n",
       "</style>\n",
       "<table border=\"1\" class=\"dataframe\">\n",
       "  <thead>\n",
       "    <tr style=\"text-align: right;\">\n",
       "      <th></th>\n",
       "      <th>client</th>\n",
       "      <th>write_rt_mean</th>\n",
       "      <th>write_rt_std</th>\n",
       "      <th>read_rt_mean</th>\n",
       "      <th>read_rt_std</th>\n",
       "    </tr>\n",
       "  </thead>\n",
       "  <tbody>\n",
       "    <tr>\n",
       "      <th>0</th>\n",
       "      <td>12</td>\n",
       "      <td>1.206667</td>\n",
       "      <td>0.009813</td>\n",
       "      <td>4.082222</td>\n",
       "      <td>0.008315</td>\n",
       "    </tr>\n",
       "    <tr>\n",
       "      <th>1</th>\n",
       "      <td>24</td>\n",
       "      <td>2.154444</td>\n",
       "      <td>0.003143</td>\n",
       "      <td>8.146667</td>\n",
       "      <td>0.000000</td>\n",
       "    </tr>\n",
       "    <tr>\n",
       "      <th>2</th>\n",
       "      <td>48</td>\n",
       "      <td>3.656667</td>\n",
       "      <td>0.005443</td>\n",
       "      <td>16.292222</td>\n",
       "      <td>0.009558</td>\n",
       "    </tr>\n",
       "    <tr>\n",
       "      <th>3</th>\n",
       "      <td>96</td>\n",
       "      <td>6.096667</td>\n",
       "      <td>0.015154</td>\n",
       "      <td>32.582222</td>\n",
       "      <td>0.029355</td>\n",
       "    </tr>\n",
       "    <tr>\n",
       "      <th>4</th>\n",
       "      <td>144</td>\n",
       "      <td>8.727778</td>\n",
       "      <td>0.054046</td>\n",
       "      <td>49.008889</td>\n",
       "      <td>0.025288</td>\n",
       "    </tr>\n",
       "    <tr>\n",
       "      <th>5</th>\n",
       "      <td>192</td>\n",
       "      <td>11.437778</td>\n",
       "      <td>0.047945</td>\n",
       "      <td>65.575556</td>\n",
       "      <td>0.080753</td>\n",
       "    </tr>\n",
       "    <tr>\n",
       "      <th>6</th>\n",
       "      <td>240</td>\n",
       "      <td>14.285556</td>\n",
       "      <td>0.036952</td>\n",
       "      <td>81.553333</td>\n",
       "      <td>0.403439</td>\n",
       "    </tr>\n",
       "    <tr>\n",
       "      <th>7</th>\n",
       "      <td>288</td>\n",
       "      <td>17.458889</td>\n",
       "      <td>0.038618</td>\n",
       "      <td>98.600000</td>\n",
       "      <td>0.142361</td>\n",
       "    </tr>\n",
       "    <tr>\n",
       "      <th>8</th>\n",
       "      <td>336</td>\n",
       "      <td>20.408889</td>\n",
       "      <td>0.038714</td>\n",
       "      <td>113.577778</td>\n",
       "      <td>1.392372</td>\n",
       "    </tr>\n",
       "  </tbody>\n",
       "</table>\n",
       "</div>"
      ],
      "text/plain": [
       "   client  write_rt_mean  write_rt_std  read_rt_mean  read_rt_std\n",
       "0      12       1.206667      0.009813      4.082222     0.008315\n",
       "1      24       2.154444      0.003143      8.146667     0.000000\n",
       "2      48       3.656667      0.005443     16.292222     0.009558\n",
       "3      96       6.096667      0.015154     32.582222     0.029355\n",
       "4     144       8.727778      0.054046     49.008889     0.025288\n",
       "5     192      11.437778      0.047945     65.575556     0.080753\n",
       "6     240      14.285556      0.036952     81.553333     0.403439\n",
       "7     288      17.458889      0.038618     98.600000     0.142361\n",
       "8     336      20.408889      0.038714    113.577778     1.392372"
      ]
     },
     "execution_count": 18,
     "metadata": {},
     "output_type": "execute_result"
    }
   ],
   "source": [
    "# read data into pandas dataframe\n",
    "df_r = pd.read_csv(base_path + 'two_servers_mem_rt.csv')\n",
    "df_r"
   ]
  },
  {
   "cell_type": "code",
   "execution_count": 19,
   "metadata": {},
   "outputs": [
    {
     "data": {
      "image/png": "[encoded data removed]",
      "text/plain": [
       "<Figure size 432x288 with 1 Axes>"
      ]
     },
     "metadata": {
      "needs_background": "light"
     },
     "output_type": "display_data"
    }
   ],
   "source": [
    "f = plt.figure()\n",
    "plt.title(\"Response-time vs. Num of Virtual Clients \\n (2 Server, 1 Client, CT=1, VC=[1..56])\")\n",
    "\n",
    "vcs = df_r['client']\n",
    "\n",
    "# write-only\n",
    "tps = df_r['write_rt_mean']\n",
    "std = df_r['write_rt_std']\n",
    "plt.errorbar(x = vcs, y = tps, yerr = std, label = \"Write-Only\", capsize = 4, ecolor='r', marker='o')\n",
    "\n",
    "# read-only\n",
    "tps = df_r['read_rt_mean']\n",
    "std = df_r['read_rt_std']\n",
    "plt.errorbar(x = vcs, y = tps, yerr = std, label = \"Read-Only\", capsize = 4, ecolor='r', marker='o', color='orange')\n",
    "\n",
    "plt.grid(linestyle = \"dotted\")\n",
    "plt.ylabel(\"Average Response-time (ms)\")\n",
    "plt.xlabel(\"Number of Virtual Clients\")\n",
    "plt.xticks([0] + np.array(vcs))\n",
    "plt.ylim(bottom=0)\n",
    "plt.legend()\n",
    "\n",
    "ax = plt.gca()\n",
    "ax.yaxis.set_major_formatter(tick.FuncFormatter(y_fmt))\n",
    "\n",
    "plt.show()\n",
    "f.savefig(\"/Users/florianmorath/Desktop/ASL_project/scripts/1_BaselineWithoutMW/processed_data/two_servers/\"+date+\"/two_servers_mem_rt.png\", dpi = 150)"
   ]
  },
  {
   "cell_type": "code",
   "execution_count": null,
   "metadata": {},
   "outputs": [],
   "source": []
  }
 ],
 "metadata": {
  "kernelspec": {
   "display_name": "Python 3",
   "language": "python",
   "name": "python3"
  },
  "language_info": {
   "codemirror_mode": {
    "name": "ipython",
    "version": 3
   },
   "file_extension": ".py",
   "mimetype": "text/x-python",
   "name": "python",
   "nbconvert_exporter": "python",
   "pygments_lexer": "ipython3",
   "version": "3.6.5"
  }
 },
 "nbformat": 4,
 "nbformat_minor": 2
}
