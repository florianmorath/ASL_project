{
 "cells": [
  {
   "cell_type": "code",
   "execution_count": 1,
   "metadata": {},
   "outputs": [],
   "source": [
    "import numpy as np\n",
    "import pandas as pd"
   ]
  },
  {
   "cell_type": "markdown",
   "metadata": {},
   "source": [
    "## Config"
   ]
  },
  {
   "cell_type": "code",
   "execution_count": 28,
   "metadata": {},
   "outputs": [],
   "source": [
    "date = '2018-12-06_23h08'\n",
    "base_path = '/Users/florianmorath/Desktop/ASL_project/scripts/2_BaselineWithMW/processed_data/one_mw/' + date + '/'\n",
    "worker = 8\n",
    "client = 48\n"
   ]
  },
  {
   "cell_type": "markdown",
   "metadata": {},
   "source": [
    "# READ - workload"
   ]
  },
  {
   "cell_type": "markdown",
   "metadata": {},
   "source": [
    "## Input values to model"
   ]
  },
  {
   "cell_type": "markdown",
   "metadata": {},
   "source": [
    "service times:"
   ]
  },
  {
   "cell_type": "code",
   "execution_count": 29,
   "metadata": {},
   "outputs": [
    {
     "data": {
      "text/html": [
       "<div>\n",
       "<style scoped>\n",
       "    .dataframe tbody tr th:only-of-type {\n",
       "        vertical-align: middle;\n",
       "    }\n",
       "\n",
       "    .dataframe tbody tr th {\n",
       "        vertical-align: top;\n",
       "    }\n",
       "\n",
       "    .dataframe thead th {\n",
       "        text-align: right;\n",
       "    }\n",
       "</style>\n",
       "<table border=\"1\" class=\"dataframe\">\n",
       "  <thead>\n",
       "    <tr style=\"text-align: right;\">\n",
       "      <th></th>\n",
       "      <th>client</th>\n",
       "      <th>worker</th>\n",
       "      <th>read_netthreadTime</th>\n",
       "      <th>read_queueTime</th>\n",
       "      <th>read_workerPreTime</th>\n",
       "      <th>read_memcachedRTT</th>\n",
       "      <th>read_workerPostTime</th>\n",
       "      <th>write_netthreadTime</th>\n",
       "      <th>write_queueTime</th>\n",
       "      <th>write_workerPreTime</th>\n",
       "      <th>write_memcachedRTT</th>\n",
       "      <th>write_workerPostTime</th>\n",
       "    </tr>\n",
       "  </thead>\n",
       "  <tbody>\n",
       "    <tr>\n",
       "      <th>8</th>\n",
       "      <td>48</td>\n",
       "      <td>8</td>\n",
       "      <td>0.021185</td>\n",
       "      <td>12.685085</td>\n",
       "      <td>0.028096</td>\n",
       "      <td>2.649753</td>\n",
       "      <td>0.020861</td>\n",
       "      <td>0.041375</td>\n",
       "      <td>4.599681</td>\n",
       "      <td>0.027843</td>\n",
       "      <td>1.003939</td>\n",
       "      <td>0.070817</td>\n",
       "    </tr>\n",
       "  </tbody>\n",
       "</table>\n",
       "</div>"
      ],
      "text/plain": [
       "   client  worker  read_netthreadTime  read_queueTime  read_workerPreTime  \\\n",
       "8      48       8            0.021185       12.685085            0.028096   \n",
       "\n",
       "   read_memcachedRTT  read_workerPostTime  write_netthreadTime  \\\n",
       "8           2.649753             0.020861             0.041375   \n",
       "\n",
       "   write_queueTime  write_workerPreTime  write_memcachedRTT  \\\n",
       "8         4.599681             0.027843            1.003939   \n",
       "\n",
       "   write_workerPostTime  \n",
       "8              0.070817  "
      ]
     },
     "execution_count": 29,
     "metadata": {},
     "output_type": "execute_result"
    }
   ],
   "source": [
    "df_rt_breakdown = pd.read_csv(base_path + 'one_mw_rt_breakdown.csv')\n",
    "df_rt_breakdown[(df_rt_breakdown['client']==client) & (df_rt_breakdown['worker']==worker)] \n",
    "df_rt_breakdown_cut = df_rt_breakdown[(df_rt_breakdown['client']==client) & (df_rt_breakdown['worker']==worker)] \n",
    "df_rt_breakdown_cut"
   ]
  },
  {
   "cell_type": "code",
   "execution_count": 30,
   "metadata": {},
   "outputs": [
    {
     "data": {
      "text/plain": [
       "2.1184925472643984e-05"
      ]
     },
     "execution_count": 30,
     "metadata": {},
     "output_type": "execute_result"
    }
   ],
   "source": [
    "st_netthread = df_rt_breakdown_cut['read_netthreadTime']/1000\n",
    "st_netthread.item() # s\n"
   ]
  },
  {
   "cell_type": "code",
   "execution_count": 31,
   "metadata": {},
   "outputs": [
    {
     "data": {
      "text/plain": [
       "0.0026987094161291577"
      ]
     },
     "execution_count": 31,
     "metadata": {},
     "output_type": "execute_result"
    }
   ],
   "source": [
    "st_worker = df_rt_breakdown_cut['read_workerPreTime'] + df_rt_breakdown_cut['read_memcachedRTT'] + df_rt_breakdown_cut['read_workerPostTime']\n",
    "st_worker = st_worker/1000\n",
    "st_worker.item() # s\n"
   ]
  },
  {
   "cell_type": "markdown",
   "metadata": {},
   "source": [
    "network delay between client and middleware:"
   ]
  },
  {
   "cell_type": "code",
   "execution_count": 32,
   "metadata": {},
   "outputs": [],
   "source": [
    "# compute from difference of mw and memtier rt\n",
    "df_rt_mem = pd.read_csv(base_path + 'one_mw_mem_rt.csv')\n",
    "df_rt_mw = pd.read_csv(base_path + 'one_mw_rt.csv')"
   ]
  },
  {
   "cell_type": "code",
   "execution_count": 33,
   "metadata": {},
   "outputs": [
    {
     "data": {
      "text/plain": [
       "0.000467149454967088"
      ]
     },
     "execution_count": 33,
     "metadata": {},
     "output_type": "execute_result"
    }
   ],
   "source": [
    "mem_rt = df_rt_mem[(df_rt_mem['client']==client) & (df_rt_mem['worker']==worker)]['read_rt_mean']\n",
    "mw_rt = df_rt_mw[(df_rt_mem['client']==client) & (df_rt_mw['worker']==worker)]['read_rt_mean']\n",
    "delay_network = (mem_rt-mw_rt)/2/1000\n",
    "delay_network.item() # s"
   ]
  },
  {
   "cell_type": "markdown",
   "metadata": {},
   "source": [
    "## Fetch measured values"
   ]
  },
  {
   "cell_type": "markdown",
   "metadata": {},
   "source": [
    "queue length:"
   ]
  },
  {
   "cell_type": "code",
   "execution_count": 34,
   "metadata": {},
   "outputs": [
    {
     "data": {
      "text/plain": [
       "34.31"
      ]
     },
     "execution_count": 34,
     "metadata": {},
     "output_type": "execute_result"
    }
   ],
   "source": [
    "df_ql = pd.read_csv(base_path + 'one_mw_queuelength.csv')\n",
    "measured_number_jobs_queue = df_ql[(df_ql['client']==client)&(df_ql['worker']==worker)]['read_queueLength'].item()\n",
    "round(measured_number_jobs_queue, 2)\n"
   ]
  },
  {
   "cell_type": "markdown",
   "metadata": {},
   "source": [
    "throughput:"
   ]
  },
  {
   "cell_type": "code",
   "execution_count": 35,
   "metadata": {},
   "outputs": [
    {
     "data": {
      "text/plain": [
       "2938.08"
      ]
     },
     "execution_count": 35,
     "metadata": {},
     "output_type": "execute_result"
    }
   ],
   "source": [
    "df_tp = pd.read_csv(base_path + 'one_mw_tp.csv')\n",
    "tp_read = df_tp[(df_tp['client']==client)&(df_tp['worker']==worker)]['read_tp_mean'].item()\n",
    "round(tp_read, 2)\n"
   ]
  },
  {
   "cell_type": "markdown",
   "metadata": {},
   "source": [
    "response time mw:"
   ]
  },
  {
   "cell_type": "code",
   "execution_count": 36,
   "metadata": {},
   "outputs": [
    {
     "data": {
      "text/plain": [
       "15.404978867843598"
      ]
     },
     "execution_count": 36,
     "metadata": {},
     "output_type": "execute_result"
    }
   ],
   "source": [
    "mw_rt.item()"
   ]
  },
  {
   "cell_type": "markdown",
   "metadata": {},
   "source": [
    "# Write - workload"
   ]
  },
  {
   "cell_type": "markdown",
   "metadata": {},
   "source": [
    "## Input values to model"
   ]
  },
  {
   "cell_type": "markdown",
   "metadata": {},
   "source": [
    "service times:"
   ]
  },
  {
   "cell_type": "code",
   "execution_count": 37,
   "metadata": {},
   "outputs": [
    {
     "data": {
      "text/html": [
       "<div>\n",
       "<style scoped>\n",
       "    .dataframe tbody tr th:only-of-type {\n",
       "        vertical-align: middle;\n",
       "    }\n",
       "\n",
       "    .dataframe tbody tr th {\n",
       "        vertical-align: top;\n",
       "    }\n",
       "\n",
       "    .dataframe thead th {\n",
       "        text-align: right;\n",
       "    }\n",
       "</style>\n",
       "<table border=\"1\" class=\"dataframe\">\n",
       "  <thead>\n",
       "    <tr style=\"text-align: right;\">\n",
       "      <th></th>\n",
       "      <th>client</th>\n",
       "      <th>worker</th>\n",
       "      <th>read_netthreadTime</th>\n",
       "      <th>read_queueTime</th>\n",
       "      <th>read_workerPreTime</th>\n",
       "      <th>read_memcachedRTT</th>\n",
       "      <th>read_workerPostTime</th>\n",
       "      <th>write_netthreadTime</th>\n",
       "      <th>write_queueTime</th>\n",
       "      <th>write_workerPreTime</th>\n",
       "      <th>write_memcachedRTT</th>\n",
       "      <th>write_workerPostTime</th>\n",
       "    </tr>\n",
       "  </thead>\n",
       "  <tbody>\n",
       "    <tr>\n",
       "      <th>8</th>\n",
       "      <td>48</td>\n",
       "      <td>8</td>\n",
       "      <td>0.021185</td>\n",
       "      <td>12.685085</td>\n",
       "      <td>0.028096</td>\n",
       "      <td>2.649753</td>\n",
       "      <td>0.020861</td>\n",
       "      <td>0.041375</td>\n",
       "      <td>4.599681</td>\n",
       "      <td>0.027843</td>\n",
       "      <td>1.003939</td>\n",
       "      <td>0.070817</td>\n",
       "    </tr>\n",
       "  </tbody>\n",
       "</table>\n",
       "</div>"
      ],
      "text/plain": [
       "   client  worker  read_netthreadTime  read_queueTime  read_workerPreTime  \\\n",
       "8      48       8            0.021185       12.685085            0.028096   \n",
       "\n",
       "   read_memcachedRTT  read_workerPostTime  write_netthreadTime  \\\n",
       "8           2.649753             0.020861             0.041375   \n",
       "\n",
       "   write_queueTime  write_workerPreTime  write_memcachedRTT  \\\n",
       "8         4.599681             0.027843            1.003939   \n",
       "\n",
       "   write_workerPostTime  \n",
       "8              0.070817  "
      ]
     },
     "execution_count": 37,
     "metadata": {},
     "output_type": "execute_result"
    }
   ],
   "source": [
    "df_rt_breakdown = pd.read_csv(base_path + 'one_mw_rt_breakdown.csv')\n",
    "df_rt_breakdown[(df_rt_breakdown['client']==client) & (df_rt_breakdown['worker']==worker)] \n",
    "df_rt_breakdown_cut = df_rt_breakdown[(df_rt_breakdown['client']==client) & (df_rt_breakdown['worker']==worker)] \n",
    "df_rt_breakdown_cut"
   ]
  },
  {
   "cell_type": "code",
   "execution_count": 38,
   "metadata": {},
   "outputs": [
    {
     "data": {
      "text/plain": [
       "4.13748506034247e-05"
      ]
     },
     "execution_count": 38,
     "metadata": {},
     "output_type": "execute_result"
    }
   ],
   "source": [
    "st_netthread = df_rt_breakdown_cut['write_netthreadTime']/1000\n",
    "st_netthread.item() # s\n"
   ]
  },
  {
   "cell_type": "code",
   "execution_count": 39,
   "metadata": {},
   "outputs": [
    {
     "data": {
      "text/plain": [
       "0.0011025992820804533"
      ]
     },
     "execution_count": 39,
     "metadata": {},
     "output_type": "execute_result"
    }
   ],
   "source": [
    "st_worker = df_rt_breakdown_cut['write_workerPreTime'] + df_rt_breakdown_cut['write_memcachedRTT'] + df_rt_breakdown_cut['write_workerPostTime']\n",
    "st_worker = st_worker/1000\n",
    "st_worker.item() # s\n"
   ]
  },
  {
   "cell_type": "markdown",
   "metadata": {},
   "source": [
    "network delay between client and middleware:"
   ]
  },
  {
   "cell_type": "code",
   "execution_count": 40,
   "metadata": {},
   "outputs": [],
   "source": [
    "# compute from difference of mw and memtier rt\n",
    "df_rt_mem = pd.read_csv(base_path + 'one_mw_mem_rt.csv')\n",
    "df_rt_mw = pd.read_csv(base_path + 'one_mw_rt.csv')"
   ]
  },
  {
   "cell_type": "code",
   "execution_count": 41,
   "metadata": {},
   "outputs": [
    {
     "data": {
      "text/plain": [
       "0.0005103574480891613"
      ]
     },
     "execution_count": 41,
     "metadata": {},
     "output_type": "execute_result"
    }
   ],
   "source": [
    "mem_rt = df_rt_mem[(df_rt_mem['client']==client) & (df_rt_mem['worker']==worker)]['write_rt_mean']\n",
    "mw_rt = df_rt_mw[(df_rt_mem['client']==client) & (df_rt_mw['worker']==worker)]['write_rt_mean']\n",
    "delay_network = (mem_rt-mw_rt)/2/1000\n",
    "delay_network.item() # s"
   ]
  },
  {
   "cell_type": "markdown",
   "metadata": {},
   "source": [
    "## Fetch measured values"
   ]
  },
  {
   "cell_type": "markdown",
   "metadata": {},
   "source": [
    "queue length:"
   ]
  },
  {
   "cell_type": "code",
   "execution_count": 42,
   "metadata": {},
   "outputs": [
    {
     "data": {
      "text/plain": [
       "32.51"
      ]
     },
     "execution_count": 42,
     "metadata": {},
     "output_type": "execute_result"
    }
   ],
   "source": [
    "df_ql = pd.read_csv(base_path + 'one_mw_queuelength.csv')\n",
    "measured_number_jobs_queue = df_ql[(df_ql['client']==client)&(df_ql['worker']==worker)]['write_queueLength'].item()\n",
    "round(measured_number_jobs_queue, 2)\n"
   ]
  },
  {
   "cell_type": "markdown",
   "metadata": {},
   "source": [
    "throughput:"
   ]
  },
  {
   "cell_type": "code",
   "execution_count": 43,
   "metadata": {},
   "outputs": [
    {
     "data": {
      "text/plain": [
       "7112.42"
      ]
     },
     "execution_count": 43,
     "metadata": {},
     "output_type": "execute_result"
    }
   ],
   "source": [
    "df_tp = pd.read_csv(base_path + 'one_mw_tp.csv')\n",
    "tp_write = df_tp[(df_tp['client']==client)&(df_tp['worker']==worker)]['write_tp_mean'].item()\n",
    "round(tp_write, 2)\n"
   ]
  },
  {
   "cell_type": "markdown",
   "metadata": {},
   "source": [
    "response time mw:"
   ]
  },
  {
   "cell_type": "code",
   "execution_count": 44,
   "metadata": {},
   "outputs": [
    {
     "data": {
      "text/plain": [
       "5.743655170609777"
      ]
     },
     "execution_count": 44,
     "metadata": {},
     "output_type": "execute_result"
    }
   ],
   "source": [
    "mw_rt.item()\n"
   ]
  },
  {
   "cell_type": "code",
   "execution_count": null,
   "metadata": {},
   "outputs": [],
   "source": []
  }
 ],
 "metadata": {
  "kernelspec": {
   "display_name": "Python 3",
   "language": "python",
   "name": "python3"
  },
  "language_info": {
   "codemirror_mode": {
    "name": "ipython",
    "version": 3
   },
   "file_extension": ".py",
   "mimetype": "text/x-python",
   "name": "python",
   "nbconvert_exporter": "python",
   "pygments_lexer": "ipython3",
   "version": "3.7.1"
  }
 },
 "nbformat": 4,
 "nbformat_minor": 2
}
