{
 "cells": [
  {
   "cell_type": "markdown",
   "metadata": {},
   "source": [
    "## MM1 model"
   ]
  },
  {
   "cell_type": "code",
   "execution_count": 1,
   "metadata": {},
   "outputs": [],
   "source": [
    "import numpy as np\n",
    "import pandas as pd"
   ]
  },
  {
   "cell_type": "markdown",
   "metadata": {},
   "source": [
    "## 0) config"
   ]
  },
  {
   "cell_type": "code",
   "execution_count": 301,
   "metadata": {},
   "outputs": [],
   "source": [
    "date = '2018-11-09_13h02'\n",
    "base_path = '/Users/florianmorath/Desktop/ASL_project/scripts/3_ThroughputForWrites/processed_data/' + date + '/'\n",
    "worker = 16\n",
    "client = 144"
   ]
  },
  {
   "cell_type": "markdown",
   "metadata": {},
   "source": [
    "## 1) fetch input parameters (service and arrival rate)"
   ]
  },
  {
   "cell_type": "markdown",
   "metadata": {},
   "source": [
    "For the mean service rate \\mu we just take the max observed throughput for each worker config"
   ]
  },
  {
   "cell_type": "code",
   "execution_count": 302,
   "metadata": {},
   "outputs": [
    {
     "data": {
      "text/html": [
       "<div>\n",
       "<style scoped>\n",
       "    .dataframe tbody tr th:only-of-type {\n",
       "        vertical-align: middle;\n",
       "    }\n",
       "\n",
       "    .dataframe tbody tr th {\n",
       "        vertical-align: top;\n",
       "    }\n",
       "\n",
       "    .dataframe thead th {\n",
       "        text-align: right;\n",
       "    }\n",
       "</style>\n",
       "<table border=\"1\" class=\"dataframe\">\n",
       "  <thead>\n",
       "    <tr style=\"text-align: right;\">\n",
       "      <th></th>\n",
       "      <th>client</th>\n",
       "      <th>worker</th>\n",
       "      <th>write_tp_mean</th>\n",
       "      <th>write_tp_std</th>\n",
       "    </tr>\n",
       "  </thead>\n",
       "  <tbody>\n",
       "    <tr>\n",
       "      <th>0</th>\n",
       "      <td>6</td>\n",
       "      <td>8</td>\n",
       "      <td>3304.442857</td>\n",
       "      <td>46.921663</td>\n",
       "    </tr>\n",
       "    <tr>\n",
       "      <th>1</th>\n",
       "      <td>6</td>\n",
       "      <td>16</td>\n",
       "      <td>3316.414286</td>\n",
       "      <td>40.795229</td>\n",
       "    </tr>\n",
       "    <tr>\n",
       "      <th>2</th>\n",
       "      <td>6</td>\n",
       "      <td>32</td>\n",
       "      <td>3313.628571</td>\n",
       "      <td>36.097170</td>\n",
       "    </tr>\n",
       "    <tr>\n",
       "      <th>3</th>\n",
       "      <td>6</td>\n",
       "      <td>64</td>\n",
       "      <td>3349.214286</td>\n",
       "      <td>28.547781</td>\n",
       "    </tr>\n",
       "    <tr>\n",
       "      <th>4</th>\n",
       "      <td>24</td>\n",
       "      <td>8</td>\n",
       "      <td>8446.400000</td>\n",
       "      <td>100.641007</td>\n",
       "    </tr>\n",
       "    <tr>\n",
       "      <th>5</th>\n",
       "      <td>24</td>\n",
       "      <td>16</td>\n",
       "      <td>8630.285714</td>\n",
       "      <td>98.976829</td>\n",
       "    </tr>\n",
       "    <tr>\n",
       "      <th>6</th>\n",
       "      <td>24</td>\n",
       "      <td>32</td>\n",
       "      <td>8470.171429</td>\n",
       "      <td>70.004335</td>\n",
       "    </tr>\n",
       "    <tr>\n",
       "      <th>7</th>\n",
       "      <td>24</td>\n",
       "      <td>64</td>\n",
       "      <td>8414.957143</td>\n",
       "      <td>66.697358</td>\n",
       "    </tr>\n",
       "    <tr>\n",
       "      <th>8</th>\n",
       "      <td>48</td>\n",
       "      <td>8</td>\n",
       "      <td>9093.485714</td>\n",
       "      <td>46.574767</td>\n",
       "    </tr>\n",
       "    <tr>\n",
       "      <th>9</th>\n",
       "      <td>48</td>\n",
       "      <td>16</td>\n",
       "      <td>10452.014286</td>\n",
       "      <td>713.507250</td>\n",
       "    </tr>\n",
       "    <tr>\n",
       "      <th>10</th>\n",
       "      <td>48</td>\n",
       "      <td>32</td>\n",
       "      <td>10896.385714</td>\n",
       "      <td>17.479793</td>\n",
       "    </tr>\n",
       "    <tr>\n",
       "      <th>11</th>\n",
       "      <td>48</td>\n",
       "      <td>64</td>\n",
       "      <td>10825.028571</td>\n",
       "      <td>83.538620</td>\n",
       "    </tr>\n",
       "    <tr>\n",
       "      <th>12</th>\n",
       "      <td>96</td>\n",
       "      <td>8</td>\n",
       "      <td>9193.571429</td>\n",
       "      <td>67.631666</td>\n",
       "    </tr>\n",
       "    <tr>\n",
       "      <th>13</th>\n",
       "      <td>96</td>\n",
       "      <td>16</td>\n",
       "      <td>10704.957143</td>\n",
       "      <td>14.486057</td>\n",
       "    </tr>\n",
       "    <tr>\n",
       "      <th>14</th>\n",
       "      <td>96</td>\n",
       "      <td>32</td>\n",
       "      <td>12956.385714</td>\n",
       "      <td>25.154179</td>\n",
       "    </tr>\n",
       "    <tr>\n",
       "      <th>15</th>\n",
       "      <td>96</td>\n",
       "      <td>64</td>\n",
       "      <td>13186.842857</td>\n",
       "      <td>46.644661</td>\n",
       "    </tr>\n",
       "    <tr>\n",
       "      <th>16</th>\n",
       "      <td>144</td>\n",
       "      <td>8</td>\n",
       "      <td>9111.342857</td>\n",
       "      <td>94.955676</td>\n",
       "    </tr>\n",
       "    <tr>\n",
       "      <th>17</th>\n",
       "      <td>144</td>\n",
       "      <td>16</td>\n",
       "      <td>10770.171429</td>\n",
       "      <td>42.030035</td>\n",
       "    </tr>\n",
       "    <tr>\n",
       "      <th>18</th>\n",
       "      <td>144</td>\n",
       "      <td>32</td>\n",
       "      <td>13059.442857</td>\n",
       "      <td>32.210583</td>\n",
       "    </tr>\n",
       "    <tr>\n",
       "      <th>19</th>\n",
       "      <td>144</td>\n",
       "      <td>64</td>\n",
       "      <td>14571.585714</td>\n",
       "      <td>55.269686</td>\n",
       "    </tr>\n",
       "    <tr>\n",
       "      <th>20</th>\n",
       "      <td>192</td>\n",
       "      <td>8</td>\n",
       "      <td>9218.142857</td>\n",
       "      <td>77.902441</td>\n",
       "    </tr>\n",
       "    <tr>\n",
       "      <th>21</th>\n",
       "      <td>192</td>\n",
       "      <td>16</td>\n",
       "      <td>10891.571429</td>\n",
       "      <td>47.465121</td>\n",
       "    </tr>\n",
       "    <tr>\n",
       "      <th>22</th>\n",
       "      <td>192</td>\n",
       "      <td>32</td>\n",
       "      <td>13238.685714</td>\n",
       "      <td>47.731504</td>\n",
       "    </tr>\n",
       "    <tr>\n",
       "      <th>23</th>\n",
       "      <td>192</td>\n",
       "      <td>64</td>\n",
       "      <td>15300.157143</td>\n",
       "      <td>43.127417</td>\n",
       "    </tr>\n",
       "    <tr>\n",
       "      <th>24</th>\n",
       "      <td>288</td>\n",
       "      <td>8</td>\n",
       "      <td>9249.942857</td>\n",
       "      <td>25.813565</td>\n",
       "    </tr>\n",
       "    <tr>\n",
       "      <th>25</th>\n",
       "      <td>288</td>\n",
       "      <td>16</td>\n",
       "      <td>10842.828571</td>\n",
       "      <td>27.318248</td>\n",
       "    </tr>\n",
       "    <tr>\n",
       "      <th>26</th>\n",
       "      <td>288</td>\n",
       "      <td>32</td>\n",
       "      <td>13258.342857</td>\n",
       "      <td>23.105017</td>\n",
       "    </tr>\n",
       "    <tr>\n",
       "      <th>27</th>\n",
       "      <td>288</td>\n",
       "      <td>64</td>\n",
       "      <td>15670.257143</td>\n",
       "      <td>53.027974</td>\n",
       "    </tr>\n",
       "  </tbody>\n",
       "</table>\n",
       "</div>"
      ],
      "text/plain": [
       "    client  worker  write_tp_mean  write_tp_std\n",
       "0        6       8    3304.442857     46.921663\n",
       "1        6      16    3316.414286     40.795229\n",
       "2        6      32    3313.628571     36.097170\n",
       "3        6      64    3349.214286     28.547781\n",
       "4       24       8    8446.400000    100.641007\n",
       "5       24      16    8630.285714     98.976829\n",
       "6       24      32    8470.171429     70.004335\n",
       "7       24      64    8414.957143     66.697358\n",
       "8       48       8    9093.485714     46.574767\n",
       "9       48      16   10452.014286    713.507250\n",
       "10      48      32   10896.385714     17.479793\n",
       "11      48      64   10825.028571     83.538620\n",
       "12      96       8    9193.571429     67.631666\n",
       "13      96      16   10704.957143     14.486057\n",
       "14      96      32   12956.385714     25.154179\n",
       "15      96      64   13186.842857     46.644661\n",
       "16     144       8    9111.342857     94.955676\n",
       "17     144      16   10770.171429     42.030035\n",
       "18     144      32   13059.442857     32.210583\n",
       "19     144      64   14571.585714     55.269686\n",
       "20     192       8    9218.142857     77.902441\n",
       "21     192      16   10891.571429     47.465121\n",
       "22     192      32   13238.685714     47.731504\n",
       "23     192      64   15300.157143     43.127417\n",
       "24     288       8    9249.942857     25.813565\n",
       "25     288      16   10842.828571     27.318248\n",
       "26     288      32   13258.342857     23.105017\n",
       "27     288      64   15670.257143     53.027974"
      ]
     },
     "execution_count": 302,
     "metadata": {},
     "output_type": "execute_result"
    }
   ],
   "source": [
    "df_mw_tp_max = pd.read_csv('/Users/florianmorath/Desktop/ASL_project/scripts/6_QueuingModel/processed_data/' + date + '/' + 'full_write_mw_tp_max.csv')\n",
    "df_mw_tp_max"
   ]
  },
  {
   "cell_type": "code",
   "execution_count": 303,
   "metadata": {},
   "outputs": [
    {
     "data": {
      "text/plain": [
       "10891.57"
      ]
     },
     "execution_count": 303,
     "metadata": {},
     "output_type": "execute_result"
    }
   ],
   "source": [
    "servicerate_mu = np.max(df_mw_tp_max[(df_mw_tp_max['worker']==worker)]['write_tp_mean'])\n",
    "round(servicerate_mu, 2)"
   ]
  },
  {
   "cell_type": "code",
   "execution_count": 304,
   "metadata": {},
   "outputs": [],
   "source": [
    "# compute it from service time\n",
    "#df_breakdown = pd.read_csv(base_path + 'full_write_mw_rt_breakdown.csv')\n",
    "#df_cut = df_breakdown[(df_breakdown['client']==client)&(df_breakdown['worker']==worker)]\n",
    "#measured_servicetime = df_cut['write_workerPreTime'].item() + df_cut['write_memcachedRTT'].item() + df_cut['write_workerPostTime'].item()\n",
    "#servicerate_mu = 1/(measured_servicetime/1000)*worker*2\n",
    "#servicerate_mu"
   ]
  },
  {
   "cell_type": "code",
   "execution_count": 305,
   "metadata": {},
   "outputs": [
    {
     "data": {
      "text/html": [
       "<div>\n",
       "<style scoped>\n",
       "    .dataframe tbody tr th:only-of-type {\n",
       "        vertical-align: middle;\n",
       "    }\n",
       "\n",
       "    .dataframe tbody tr th {\n",
       "        vertical-align: top;\n",
       "    }\n",
       "\n",
       "    .dataframe thead th {\n",
       "        text-align: right;\n",
       "    }\n",
       "</style>\n",
       "<table border=\"1\" class=\"dataframe\">\n",
       "  <thead>\n",
       "    <tr style=\"text-align: right;\">\n",
       "      <th></th>\n",
       "      <th>client</th>\n",
       "      <th>worker</th>\n",
       "      <th>write_tp_mean</th>\n",
       "      <th>write_tp_std</th>\n",
       "    </tr>\n",
       "  </thead>\n",
       "  <tbody>\n",
       "    <tr>\n",
       "      <th>0</th>\n",
       "      <td>6</td>\n",
       "      <td>8</td>\n",
       "      <td>3250.019048</td>\n",
       "      <td>46.921663</td>\n",
       "    </tr>\n",
       "    <tr>\n",
       "      <th>1</th>\n",
       "      <td>6</td>\n",
       "      <td>16</td>\n",
       "      <td>3264.114286</td>\n",
       "      <td>40.795229</td>\n",
       "    </tr>\n",
       "    <tr>\n",
       "      <th>2</th>\n",
       "      <td>6</td>\n",
       "      <td>32</td>\n",
       "      <td>3270.285714</td>\n",
       "      <td>36.097170</td>\n",
       "    </tr>\n",
       "    <tr>\n",
       "      <th>3</th>\n",
       "      <td>6</td>\n",
       "      <td>64</td>\n",
       "      <td>3327.504762</td>\n",
       "      <td>28.547781</td>\n",
       "    </tr>\n",
       "    <tr>\n",
       "      <th>4</th>\n",
       "      <td>24</td>\n",
       "      <td>8</td>\n",
       "      <td>8304.466667</td>\n",
       "      <td>100.641007</td>\n",
       "    </tr>\n",
       "    <tr>\n",
       "      <th>5</th>\n",
       "      <td>24</td>\n",
       "      <td>16</td>\n",
       "      <td>8498.238095</td>\n",
       "      <td>98.976829</td>\n",
       "    </tr>\n",
       "    <tr>\n",
       "      <th>6</th>\n",
       "      <td>24</td>\n",
       "      <td>32</td>\n",
       "      <td>8414.190476</td>\n",
       "      <td>70.004335</td>\n",
       "    </tr>\n",
       "    <tr>\n",
       "      <th>7</th>\n",
       "      <td>24</td>\n",
       "      <td>64</td>\n",
       "      <td>8335.228571</td>\n",
       "      <td>66.697358</td>\n",
       "    </tr>\n",
       "    <tr>\n",
       "      <th>8</th>\n",
       "      <td>48</td>\n",
       "      <td>8</td>\n",
       "      <td>9037.752381</td>\n",
       "      <td>46.574767</td>\n",
       "    </tr>\n",
       "    <tr>\n",
       "      <th>9</th>\n",
       "      <td>48</td>\n",
       "      <td>16</td>\n",
       "      <td>9920.252381</td>\n",
       "      <td>713.507250</td>\n",
       "    </tr>\n",
       "    <tr>\n",
       "      <th>10</th>\n",
       "      <td>48</td>\n",
       "      <td>32</td>\n",
       "      <td>10878.723810</td>\n",
       "      <td>17.479793</td>\n",
       "    </tr>\n",
       "    <tr>\n",
       "      <th>11</th>\n",
       "      <td>48</td>\n",
       "      <td>64</td>\n",
       "      <td>10707.000000</td>\n",
       "      <td>83.538620</td>\n",
       "    </tr>\n",
       "    <tr>\n",
       "      <th>12</th>\n",
       "      <td>96</td>\n",
       "      <td>8</td>\n",
       "      <td>9098.352381</td>\n",
       "      <td>67.631666</td>\n",
       "    </tr>\n",
       "    <tr>\n",
       "      <th>13</th>\n",
       "      <td>96</td>\n",
       "      <td>16</td>\n",
       "      <td>10685.142857</td>\n",
       "      <td>14.486057</td>\n",
       "    </tr>\n",
       "    <tr>\n",
       "      <th>14</th>\n",
       "      <td>96</td>\n",
       "      <td>32</td>\n",
       "      <td>12930.280952</td>\n",
       "      <td>25.154179</td>\n",
       "    </tr>\n",
       "    <tr>\n",
       "      <th>15</th>\n",
       "      <td>96</td>\n",
       "      <td>64</td>\n",
       "      <td>13123.009524</td>\n",
       "      <td>46.644661</td>\n",
       "    </tr>\n",
       "    <tr>\n",
       "      <th>16</th>\n",
       "      <td>144</td>\n",
       "      <td>8</td>\n",
       "      <td>9025.933333</td>\n",
       "      <td>94.955676</td>\n",
       "    </tr>\n",
       "    <tr>\n",
       "      <th>17</th>\n",
       "      <td>144</td>\n",
       "      <td>16</td>\n",
       "      <td>10716.795238</td>\n",
       "      <td>42.030035</td>\n",
       "    </tr>\n",
       "    <tr>\n",
       "      <th>18</th>\n",
       "      <td>144</td>\n",
       "      <td>32</td>\n",
       "      <td>13023.095238</td>\n",
       "      <td>32.210583</td>\n",
       "    </tr>\n",
       "    <tr>\n",
       "      <th>19</th>\n",
       "      <td>144</td>\n",
       "      <td>64</td>\n",
       "      <td>14519.223810</td>\n",
       "      <td>55.269686</td>\n",
       "    </tr>\n",
       "    <tr>\n",
       "      <th>20</th>\n",
       "      <td>192</td>\n",
       "      <td>8</td>\n",
       "      <td>9112.357143</td>\n",
       "      <td>77.902441</td>\n",
       "    </tr>\n",
       "    <tr>\n",
       "      <th>21</th>\n",
       "      <td>192</td>\n",
       "      <td>16</td>\n",
       "      <td>10827.771429</td>\n",
       "      <td>47.465121</td>\n",
       "    </tr>\n",
       "    <tr>\n",
       "      <th>22</th>\n",
       "      <td>192</td>\n",
       "      <td>32</td>\n",
       "      <td>13204.428571</td>\n",
       "      <td>47.731504</td>\n",
       "    </tr>\n",
       "    <tr>\n",
       "      <th>23</th>\n",
       "      <td>192</td>\n",
       "      <td>64</td>\n",
       "      <td>15239.404762</td>\n",
       "      <td>43.127417</td>\n",
       "    </tr>\n",
       "    <tr>\n",
       "      <th>24</th>\n",
       "      <td>288</td>\n",
       "      <td>8</td>\n",
       "      <td>9215.657143</td>\n",
       "      <td>25.813565</td>\n",
       "    </tr>\n",
       "    <tr>\n",
       "      <th>25</th>\n",
       "      <td>288</td>\n",
       "      <td>16</td>\n",
       "      <td>10816.571429</td>\n",
       "      <td>27.318248</td>\n",
       "    </tr>\n",
       "    <tr>\n",
       "      <th>26</th>\n",
       "      <td>288</td>\n",
       "      <td>32</td>\n",
       "      <td>13228.704762</td>\n",
       "      <td>23.105017</td>\n",
       "    </tr>\n",
       "    <tr>\n",
       "      <th>27</th>\n",
       "      <td>288</td>\n",
       "      <td>64</td>\n",
       "      <td>15595.366667</td>\n",
       "      <td>53.027974</td>\n",
       "    </tr>\n",
       "  </tbody>\n",
       "</table>\n",
       "</div>"
      ],
      "text/plain": [
       "    client  worker  write_tp_mean  write_tp_std\n",
       "0        6       8    3250.019048     46.921663\n",
       "1        6      16    3264.114286     40.795229\n",
       "2        6      32    3270.285714     36.097170\n",
       "3        6      64    3327.504762     28.547781\n",
       "4       24       8    8304.466667    100.641007\n",
       "5       24      16    8498.238095     98.976829\n",
       "6       24      32    8414.190476     70.004335\n",
       "7       24      64    8335.228571     66.697358\n",
       "8       48       8    9037.752381     46.574767\n",
       "9       48      16    9920.252381    713.507250\n",
       "10      48      32   10878.723810     17.479793\n",
       "11      48      64   10707.000000     83.538620\n",
       "12      96       8    9098.352381     67.631666\n",
       "13      96      16   10685.142857     14.486057\n",
       "14      96      32   12930.280952     25.154179\n",
       "15      96      64   13123.009524     46.644661\n",
       "16     144       8    9025.933333     94.955676\n",
       "17     144      16   10716.795238     42.030035\n",
       "18     144      32   13023.095238     32.210583\n",
       "19     144      64   14519.223810     55.269686\n",
       "20     192       8    9112.357143     77.902441\n",
       "21     192      16   10827.771429     47.465121\n",
       "22     192      32   13204.428571     47.731504\n",
       "23     192      64   15239.404762     43.127417\n",
       "24     288       8    9215.657143     25.813565\n",
       "25     288      16   10816.571429     27.318248\n",
       "26     288      32   13228.704762     23.105017\n",
       "27     288      64   15595.366667     53.027974"
      ]
     },
     "execution_count": 305,
     "metadata": {},
     "output_type": "execute_result"
    }
   ],
   "source": [
    "df_mw_tp = pd.read_csv(base_path + 'full_write_mw_tp.csv')\n",
    "df_mw_tp"
   ]
  },
  {
   "cell_type": "markdown",
   "metadata": {},
   "source": [
    "For the mean arrival rate \\lambda we take the throughput at the specific configuration"
   ]
  },
  {
   "cell_type": "code",
   "execution_count": 306,
   "metadata": {},
   "outputs": [
    {
     "data": {
      "text/plain": [
       "10716.8"
      ]
     },
     "execution_count": 306,
     "metadata": {},
     "output_type": "execute_result"
    }
   ],
   "source": [
    "arrivalrate_lambda = df_mw_tp[(df_mw_tp['worker']==worker) & (df_mw_tp['client']==client)]['write_tp_mean'].item()\n",
    "round(arrivalrate_lambda, 2)"
   ]
  },
  {
   "cell_type": "markdown",
   "metadata": {},
   "source": [
    "## 2) apply formulas (make predictions)"
   ]
  },
  {
   "cell_type": "code",
   "execution_count": 307,
   "metadata": {},
   "outputs": [
    {
     "data": {
      "text/plain": [
       "0.984"
      ]
     },
     "execution_count": 307,
     "metadata": {},
     "output_type": "execute_result"
    }
   ],
   "source": [
    "trafficload_rho = arrivalrate_lambda / servicerate_mu\n",
    "round(trafficload_rho, 4)"
   ]
  },
  {
   "cell_type": "markdown",
   "metadata": {},
   "source": [
    "number of jobs:"
   ]
  },
  {
   "cell_type": "code",
   "execution_count": 308,
   "metadata": {},
   "outputs": [
    {
     "data": {
      "text/plain": [
       "60.33"
      ]
     },
     "execution_count": 308,
     "metadata": {},
     "output_type": "execute_result"
    }
   ],
   "source": [
    "mean_number_jobs_queue = trafficload_rho**2/(1-trafficload_rho)\n",
    "round(mean_number_jobs_queue, 2)"
   ]
  },
  {
   "cell_type": "code",
   "execution_count": 309,
   "metadata": {},
   "outputs": [
    {
     "data": {
      "text/plain": [
       "0.98"
      ]
     },
     "execution_count": 309,
     "metadata": {},
     "output_type": "execute_result"
    }
   ],
   "source": [
    "mean_number_jobs_service = trafficload_rho\n",
    "round(trafficload_rho, 2)"
   ]
  },
  {
   "cell_type": "code",
   "execution_count": 310,
   "metadata": {},
   "outputs": [
    {
     "data": {
      "text/plain": [
       "61.32"
      ]
     },
     "execution_count": 310,
     "metadata": {},
     "output_type": "execute_result"
    }
   ],
   "source": [
    "mean_number_jobs_system =  trafficload_rho/(1-trafficload_rho)\n",
    "round(mean_number_jobs_system, 2)"
   ]
  },
  {
   "cell_type": "markdown",
   "metadata": {},
   "source": [
    "response times:"
   ]
  },
  {
   "cell_type": "code",
   "execution_count": 311,
   "metadata": {},
   "outputs": [
    {
     "data": {
      "text/plain": [
       "5.63"
      ]
     },
     "execution_count": 311,
     "metadata": {},
     "output_type": "execute_result"
    }
   ],
   "source": [
    "mean_waittime = 1000*trafficload_rho*(1/servicerate_mu)/(1-trafficload_rho)\n",
    "round(mean_waittime, 2) # in ms "
   ]
  },
  {
   "cell_type": "code",
   "execution_count": 312,
   "metadata": {},
   "outputs": [
    {
     "data": {
      "text/plain": [
       "0.09"
      ]
     },
     "execution_count": 312,
     "metadata": {},
     "output_type": "execute_result"
    }
   ],
   "source": [
    "mean_servicetime = 1000*1/servicerate_mu\n",
    "round(mean_servicetime, 2)"
   ]
  },
  {
   "cell_type": "code",
   "execution_count": 313,
   "metadata": {},
   "outputs": [
    {
     "data": {
      "text/plain": [
       "5.72"
      ]
     },
     "execution_count": 313,
     "metadata": {},
     "output_type": "execute_result"
    }
   ],
   "source": [
    "mean_total_time = 1000*(1/servicerate_mu)/(1-trafficload_rho)\n",
    "round(mean_total_time, 2)"
   ]
  },
  {
   "cell_type": "markdown",
   "metadata": {},
   "source": [
    "## 3) fetch measured values"
   ]
  },
  {
   "cell_type": "markdown",
   "metadata": {},
   "source": [
    "number of jobs:"
   ]
  },
  {
   "cell_type": "code",
   "execution_count": 314,
   "metadata": {},
   "outputs": [
    {
     "data": {
      "text/plain": [
       "48.39"
      ]
     },
     "execution_count": 314,
     "metadata": {},
     "output_type": "execute_result"
    }
   ],
   "source": [
    "# queue length\n",
    "df_ql = pd.read_csv(base_path + 'full_write_mw_queuelength.csv')\n",
    "measured_number_jobs_queue = df_ql[(df_ql['client']==client)&(df_ql['worker']==worker)]['write_queueLength'].item()\n",
    "round(measured_number_jobs_queue, 2)"
   ]
  },
  {
   "cell_type": "code",
   "execution_count": 315,
   "metadata": {},
   "outputs": [
    {
     "data": {
      "text/plain": [
       "31.49"
      ]
     },
     "execution_count": 315,
     "metadata": {},
     "output_type": "execute_result"
    }
   ],
   "source": [
    "# number of jobs in service\n",
    "measured_number_jobs_service = worker*2*trafficload_rho\n",
    "round(measured_number_jobs_service, 2)"
   ]
  },
  {
   "cell_type": "code",
   "execution_count": 316,
   "metadata": {},
   "outputs": [
    {
     "data": {
      "text/plain": [
       "79.88"
      ]
     },
     "execution_count": 316,
     "metadata": {},
     "output_type": "execute_result"
    }
   ],
   "source": [
    "# number of jobs in the system\n",
    "measured_number_jobs_system = measured_number_jobs_queue + measured_number_jobs_service\n",
    "round(measured_number_jobs_system, 2)"
   ]
  },
  {
   "cell_type": "markdown",
   "metadata": {},
   "source": [
    "response times:"
   ]
  },
  {
   "cell_type": "code",
   "execution_count": 317,
   "metadata": {},
   "outputs": [
    {
     "data": {
      "text/plain": [
       "2.99"
      ]
     },
     "execution_count": 317,
     "metadata": {},
     "output_type": "execute_result"
    }
   ],
   "source": [
    "# service time in ms\n",
    "df_breakdown = pd.read_csv(base_path + 'full_write_mw_rt_breakdown.csv')\n",
    "df_cut = df_breakdown[(df_breakdown['client']==client)&(df_breakdown['worker']==worker)]\n",
    "measured_servicetime = df_cut['write_workerPreTime'].item() + df_cut['write_memcachedRTT'].item() + df_cut['write_workerPostTime'].item()\n",
    "round(measured_servicetime, 2)\n",
    "\n"
   ]
  },
  {
   "cell_type": "code",
   "execution_count": 318,
   "metadata": {},
   "outputs": [
    {
     "data": {
      "text/plain": [
       "12.77"
      ]
     },
     "execution_count": 318,
     "metadata": {},
     "output_type": "execute_result"
    }
   ],
   "source": [
    "# total response time\n",
    "df_mw_rt = pd.read_csv(base_path + 'full_write_mw_rt.csv')\n",
    "measured_totaltime = df_mw_rt[(df_breakdown['client']==client)&(df_breakdown['worker']==worker)]['write_rt_mean'].item()\n",
    "round(measured_totaltime, 2)\n",
    "\n"
   ]
  },
  {
   "cell_type": "code",
   "execution_count": 319,
   "metadata": {},
   "outputs": [
    {
     "data": {
      "text/plain": [
       "9.78"
      ]
     },
     "execution_count": 319,
     "metadata": {},
     "output_type": "execute_result"
    }
   ],
   "source": [
    "# queue time\n",
    "measured_waittime = measured_totaltime - measured_servicetime\n",
    "round(measured_waittime, 2)"
   ]
  },
  {
   "cell_type": "code",
   "execution_count": null,
   "metadata": {},
   "outputs": [],
   "source": []
  },
  {
   "cell_type": "code",
   "execution_count": null,
   "metadata": {},
   "outputs": [],
   "source": []
  }
 ],
 "metadata": {
  "kernelspec": {
   "display_name": "Python 3",
   "language": "python",
   "name": "python3"
  },
  "language_info": {
   "codemirror_mode": {
    "name": "ipython",
    "version": 3
   },
   "file_extension": ".py",
   "mimetype": "text/x-python",
   "name": "python",
   "nbconvert_exporter": "python",
   "pygments_lexer": "ipython3",
   "version": "3.7.1"
  }
 },
 "nbformat": 4,
 "nbformat_minor": 2
}
