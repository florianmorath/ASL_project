{
 "cells": [
  {
   "cell_type": "code",
   "execution_count": 1,
   "metadata": {},
   "outputs": [],
   "source": [
    "import numpy as np\n",
    "import pandas as pd"
   ]
  },
  {
   "cell_type": "markdown",
   "metadata": {},
   "source": [
    "## Config"
   ]
  },
  {
   "cell_type": "code",
   "execution_count": 2,
   "metadata": {},
   "outputs": [],
   "source": [
    "date = '2018-11-03_10h45'\n",
    "base_path = '/Users/florianmorath/Desktop/ASL_project/scripts/2_BaselineWithMW/processed_data/two_mws/' + date + '/'\n",
    "worker = 64\n",
    "client = 48\n"
   ]
  },
  {
   "cell_type": "markdown",
   "metadata": {},
   "source": [
    "# READ - workload"
   ]
  },
  {
   "cell_type": "markdown",
   "metadata": {},
   "source": [
    "## Input values to model"
   ]
  },
  {
   "cell_type": "markdown",
   "metadata": {},
   "source": [
    "service times:"
   ]
  },
  {
   "cell_type": "code",
   "execution_count": 3,
   "metadata": {},
   "outputs": [
    {
     "data": {
      "text/html": [
       "<div>\n",
       "<style scoped>\n",
       "    .dataframe tbody tr th:only-of-type {\n",
       "        vertical-align: middle;\n",
       "    }\n",
       "\n",
       "    .dataframe tbody tr th {\n",
       "        vertical-align: top;\n",
       "    }\n",
       "\n",
       "    .dataframe thead th {\n",
       "        text-align: right;\n",
       "    }\n",
       "</style>\n",
       "<table border=\"1\" class=\"dataframe\">\n",
       "  <thead>\n",
       "    <tr style=\"text-align: right;\">\n",
       "      <th></th>\n",
       "      <th>client</th>\n",
       "      <th>worker</th>\n",
       "      <th>read_netthreadTime</th>\n",
       "      <th>read_queueTime</th>\n",
       "      <th>read_workerPreTime</th>\n",
       "      <th>read_memcachedRTT</th>\n",
       "      <th>read_workerPostTime</th>\n",
       "      <th>write_netthreadTime</th>\n",
       "      <th>write_queueTime</th>\n",
       "      <th>write_workerPreTime</th>\n",
       "      <th>write_memcachedRTT</th>\n",
       "      <th>write_workerPostTime</th>\n",
       "    </tr>\n",
       "  </thead>\n",
       "  <tbody>\n",
       "    <tr>\n",
       "      <th>11</th>\n",
       "      <td>48</td>\n",
       "      <td>64</td>\n",
       "      <td>0.016043</td>\n",
       "      <td>0.322725</td>\n",
       "      <td>0.016239</td>\n",
       "      <td>14.754288</td>\n",
       "      <td>0.01816</td>\n",
       "      <td>0.030092</td>\n",
       "      <td>0.219776</td>\n",
       "      <td>0.021755</td>\n",
       "      <td>3.246097</td>\n",
       "      <td>0.052852</td>\n",
       "    </tr>\n",
       "  </tbody>\n",
       "</table>\n",
       "</div>"
      ],
      "text/plain": [
       "    client  worker  read_netthreadTime  read_queueTime  read_workerPreTime  \\\n",
       "11      48      64            0.016043        0.322725            0.016239   \n",
       "\n",
       "    read_memcachedRTT  read_workerPostTime  write_netthreadTime  \\\n",
       "11          14.754288              0.01816             0.030092   \n",
       "\n",
       "    write_queueTime  write_workerPreTime  write_memcachedRTT  \\\n",
       "11         0.219776             0.021755            3.246097   \n",
       "\n",
       "    write_workerPostTime  \n",
       "11              0.052852  "
      ]
     },
     "execution_count": 3,
     "metadata": {},
     "output_type": "execute_result"
    }
   ],
   "source": [
    "df_rt_breakdown = pd.read_csv(base_path + 'two_mws_rt_breakdown.csv')\n",
    "df_rt_breakdown[(df_rt_breakdown['client']==client) & (df_rt_breakdown['worker']==worker)] \n",
    "df_rt_breakdown_cut = df_rt_breakdown[(df_rt_breakdown['client']==client) & (df_rt_breakdown['worker']==worker)] \n",
    "df_rt_breakdown_cut"
   ]
  },
  {
   "cell_type": "code",
   "execution_count": 4,
   "metadata": {},
   "outputs": [
    {
     "data": {
      "text/plain": [
       "1.604346951501307e-05"
      ]
     },
     "execution_count": 4,
     "metadata": {},
     "output_type": "execute_result"
    }
   ],
   "source": [
    "st_netthread = df_rt_breakdown_cut['read_netthreadTime']/1000\n",
    "st_netthread.item() # s\n"
   ]
  },
  {
   "cell_type": "code",
   "execution_count": 5,
   "metadata": {},
   "outputs": [
    {
     "data": {
      "text/plain": [
       "0.014788686902473959"
      ]
     },
     "execution_count": 5,
     "metadata": {},
     "output_type": "execute_result"
    }
   ],
   "source": [
    "st_worker = df_rt_breakdown_cut['read_workerPreTime'] + df_rt_breakdown_cut['read_memcachedRTT'] + df_rt_breakdown_cut['read_workerPostTime']\n",
    "st_worker = st_worker/1000\n",
    "st_worker.item() # s\n"
   ]
  },
  {
   "cell_type": "markdown",
   "metadata": {},
   "source": [
    "network delay between client and middleware:"
   ]
  },
  {
   "cell_type": "code",
   "execution_count": 6,
   "metadata": {},
   "outputs": [],
   "source": [
    "# compute from difference of mw and memtier rt\n",
    "df_rt_mem = pd.read_csv(base_path + 'two_mws_mem_rt.csv')\n",
    "df_rt_mw = pd.read_csv(base_path + 'two_mws_rt.csv')"
   ]
  },
  {
   "cell_type": "code",
   "execution_count": 7,
   "metadata": {},
   "outputs": [
    {
     "data": {
      "text/plain": [
       "0.0005376612047250022"
      ]
     },
     "execution_count": 7,
     "metadata": {},
     "output_type": "execute_result"
    }
   ],
   "source": [
    "mem_rt = df_rt_mem[(df_rt_mem['client']==client) & (df_rt_mem['worker']==worker)]['read_rt_mean']\n",
    "mw_rt = df_rt_mw[(df_rt_mem['client']==client) & (df_rt_mw['worker']==worker)]['read_rt_mean']\n",
    "delay_network = (mem_rt-mw_rt)/2/1000\n",
    "delay_network.item() # s"
   ]
  },
  {
   "cell_type": "markdown",
   "metadata": {},
   "source": [
    "## Fetch measured values"
   ]
  },
  {
   "cell_type": "markdown",
   "metadata": {},
   "source": [
    "queue length:"
   ]
  },
  {
   "cell_type": "code",
   "execution_count": 8,
   "metadata": {},
   "outputs": [
    {
     "data": {
      "text/plain": [
       "5.39"
      ]
     },
     "execution_count": 8,
     "metadata": {},
     "output_type": "execute_result"
    }
   ],
   "source": [
    "df_ql = pd.read_csv(base_path + 'two_mws_queuelength.csv')\n",
    "measured_number_jobs_queue = df_ql[(df_ql['client']==client)&(df_ql['worker']==worker)]['read_queueLength'].item()\n",
    "round(measured_number_jobs_queue, 2)\n"
   ]
  },
  {
   "cell_type": "markdown",
   "metadata": {},
   "source": [
    "throughput:"
   ]
  },
  {
   "cell_type": "code",
   "execution_count": 9,
   "metadata": {},
   "outputs": [
    {
     "data": {
      "text/plain": [
       "2962.06"
      ]
     },
     "execution_count": 9,
     "metadata": {},
     "output_type": "execute_result"
    }
   ],
   "source": [
    "df_tp = pd.read_csv(base_path + 'two_mws_tp.csv')\n",
    "tp_read = df_tp[(df_tp['client']==client)&(df_tp['worker']==worker)]['read_tp_mean'].item()\n",
    "round(tp_read, 2)\n"
   ]
  },
  {
   "cell_type": "markdown",
   "metadata": {},
   "source": [
    "response time mw:"
   ]
  },
  {
   "cell_type": "code",
   "execution_count": 10,
   "metadata": {},
   "outputs": [
    {
     "data": {
      "text/plain": [
       "15.127455368327775"
      ]
     },
     "execution_count": 10,
     "metadata": {},
     "output_type": "execute_result"
    }
   ],
   "source": [
    "mw_rt.item()"
   ]
  },
  {
   "cell_type": "markdown",
   "metadata": {},
   "source": [
    "# Write - workload"
   ]
  },
  {
   "cell_type": "markdown",
   "metadata": {},
   "source": [
    "## Input values to model"
   ]
  },
  {
   "cell_type": "markdown",
   "metadata": {},
   "source": [
    "service times:"
   ]
  },
  {
   "cell_type": "code",
   "execution_count": 11,
   "metadata": {},
   "outputs": [
    {
     "data": {
      "text/html": [
       "<div>\n",
       "<style scoped>\n",
       "    .dataframe tbody tr th:only-of-type {\n",
       "        vertical-align: middle;\n",
       "    }\n",
       "\n",
       "    .dataframe tbody tr th {\n",
       "        vertical-align: top;\n",
       "    }\n",
       "\n",
       "    .dataframe thead th {\n",
       "        text-align: right;\n",
       "    }\n",
       "</style>\n",
       "<table border=\"1\" class=\"dataframe\">\n",
       "  <thead>\n",
       "    <tr style=\"text-align: right;\">\n",
       "      <th></th>\n",
       "      <th>client</th>\n",
       "      <th>worker</th>\n",
       "      <th>read_netthreadTime</th>\n",
       "      <th>read_queueTime</th>\n",
       "      <th>read_workerPreTime</th>\n",
       "      <th>read_memcachedRTT</th>\n",
       "      <th>read_workerPostTime</th>\n",
       "      <th>write_netthreadTime</th>\n",
       "      <th>write_queueTime</th>\n",
       "      <th>write_workerPreTime</th>\n",
       "      <th>write_memcachedRTT</th>\n",
       "      <th>write_workerPostTime</th>\n",
       "    </tr>\n",
       "  </thead>\n",
       "  <tbody>\n",
       "    <tr>\n",
       "      <th>11</th>\n",
       "      <td>48</td>\n",
       "      <td>64</td>\n",
       "      <td>0.016043</td>\n",
       "      <td>0.322725</td>\n",
       "      <td>0.016239</td>\n",
       "      <td>14.754288</td>\n",
       "      <td>0.01816</td>\n",
       "      <td>0.030092</td>\n",
       "      <td>0.219776</td>\n",
       "      <td>0.021755</td>\n",
       "      <td>3.246097</td>\n",
       "      <td>0.052852</td>\n",
       "    </tr>\n",
       "  </tbody>\n",
       "</table>\n",
       "</div>"
      ],
      "text/plain": [
       "    client  worker  read_netthreadTime  read_queueTime  read_workerPreTime  \\\n",
       "11      48      64            0.016043        0.322725            0.016239   \n",
       "\n",
       "    read_memcachedRTT  read_workerPostTime  write_netthreadTime  \\\n",
       "11          14.754288              0.01816             0.030092   \n",
       "\n",
       "    write_queueTime  write_workerPreTime  write_memcachedRTT  \\\n",
       "11         0.219776             0.021755            3.246097   \n",
       "\n",
       "    write_workerPostTime  \n",
       "11              0.052852  "
      ]
     },
     "execution_count": 11,
     "metadata": {},
     "output_type": "execute_result"
    }
   ],
   "source": [
    "df_rt_breakdown = pd.read_csv(base_path + 'two_mws_rt_breakdown.csv')\n",
    "df_rt_breakdown[(df_rt_breakdown['client']==client) & (df_rt_breakdown['worker']==worker)] \n",
    "df_rt_breakdown_cut = df_rt_breakdown[(df_rt_breakdown['client']==client) & (df_rt_breakdown['worker']==worker)] \n",
    "df_rt_breakdown_cut"
   ]
  },
  {
   "cell_type": "code",
   "execution_count": 12,
   "metadata": {},
   "outputs": [
    {
     "data": {
      "text/plain": [
       "3.009216846467748e-05"
      ]
     },
     "execution_count": 12,
     "metadata": {},
     "output_type": "execute_result"
    }
   ],
   "source": [
    "st_netthread = df_rt_breakdown_cut['write_netthreadTime']/1000\n",
    "st_netthread.item() # s\n"
   ]
  },
  {
   "cell_type": "code",
   "execution_count": 13,
   "metadata": {},
   "outputs": [
    {
     "data": {
      "text/plain": [
       "0.0033207030903721203"
      ]
     },
     "execution_count": 13,
     "metadata": {},
     "output_type": "execute_result"
    }
   ],
   "source": [
    "st_worker = df_rt_breakdown_cut['write_workerPreTime'] + df_rt_breakdown_cut['write_memcachedRTT'] + df_rt_breakdown_cut['write_workerPostTime']\n",
    "st_worker = st_worker/1000\n",
    "st_worker.item() # s\n"
   ]
  },
  {
   "cell_type": "markdown",
   "metadata": {},
   "source": [
    "network delay between client and middleware:"
   ]
  },
  {
   "cell_type": "code",
   "execution_count": 14,
   "metadata": {},
   "outputs": [],
   "source": [
    "# compute from difference of mw and memtier rt\n",
    "df_rt_mem = pd.read_csv(base_path + 'two_mws_mem_rt.csv')\n",
    "df_rt_mw = pd.read_csv(base_path + 'two_mws_rt.csv')"
   ]
  },
  {
   "cell_type": "code",
   "execution_count": 15,
   "metadata": {},
   "outputs": [
    {
     "data": {
      "text/plain": [
       "0.0004783254331722224"
      ]
     },
     "execution_count": 15,
     "metadata": {},
     "output_type": "execute_result"
    }
   ],
   "source": [
    "mem_rt = df_rt_mem[(df_rt_mem['client']==client) & (df_rt_mem['worker']==worker)]['write_rt_mean']\n",
    "mw_rt = df_rt_mw[(df_rt_mem['client']==client) & (df_rt_mw['worker']==worker)]['write_rt_mean']\n",
    "delay_network = (mem_rt-mw_rt)/2/1000\n",
    "delay_network.item() # s"
   ]
  },
  {
   "cell_type": "markdown",
   "metadata": {},
   "source": [
    "## Fetch measured values"
   ]
  },
  {
   "cell_type": "markdown",
   "metadata": {},
   "source": [
    "queue length:"
   ]
  },
  {
   "cell_type": "code",
   "execution_count": 16,
   "metadata": {},
   "outputs": [
    {
     "data": {
      "text/plain": [
       "3.36"
      ]
     },
     "execution_count": 16,
     "metadata": {},
     "output_type": "execute_result"
    }
   ],
   "source": [
    "df_ql = pd.read_csv(base_path + 'two_mws_queuelength.csv')\n",
    "measured_number_jobs_queue = df_ql[(df_ql['client']==client)&(df_ql['worker']==worker)]['write_queueLength'].item()\n",
    "round(measured_number_jobs_queue, 2)\n"
   ]
  },
  {
   "cell_type": "markdown",
   "metadata": {},
   "source": [
    "throughput:"
   ]
  },
  {
   "cell_type": "code",
   "execution_count": 17,
   "metadata": {},
   "outputs": [
    {
     "data": {
      "text/plain": [
       "10617.31"
      ]
     },
     "execution_count": 17,
     "metadata": {},
     "output_type": "execute_result"
    }
   ],
   "source": [
    "df_tp = pd.read_csv(base_path + 'two_mws_tp.csv')\n",
    "tp_write = df_tp[(df_tp['client']==client)&(df_tp['worker']==worker)]['write_tp_mean'].item()\n",
    "round(tp_write, 2)\n"
   ]
  },
  {
   "cell_type": "markdown",
   "metadata": {},
   "source": [
    "response time mw:"
   ]
  },
  {
   "cell_type": "code",
   "execution_count": 18,
   "metadata": {},
   "outputs": [
    {
     "data": {
      "text/plain": [
       "3.5705713558777763"
      ]
     },
     "execution_count": 18,
     "metadata": {},
     "output_type": "execute_result"
    }
   ],
   "source": [
    "mw_rt.item()\n"
   ]
  },
  {
   "cell_type": "code",
   "execution_count": null,
   "metadata": {},
   "outputs": [],
   "source": []
  }
 ],
 "metadata": {
  "kernelspec": {
   "display_name": "Python 3",
   "language": "python",
   "name": "python3"
  },
  "language_info": {
   "codemirror_mode": {
    "name": "ipython",
    "version": 3
   },
   "file_extension": ".py",
   "mimetype": "text/x-python",
   "name": "python",
   "nbconvert_exporter": "python",
   "pygments_lexer": "ipython3",
   "version": "3.7.1"
  }
 },
 "nbformat": 4,
 "nbformat_minor": 2
}
