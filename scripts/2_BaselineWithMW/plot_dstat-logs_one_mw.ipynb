{
 "cells": [
  {
   "cell_type": "markdown",
   "metadata": {},
   "source": [
    "### This file plots the processed csv files with matplotlib"
   ]
  },
  {
   "cell_type": "markdown",
   "metadata": {},
   "source": [
    "Note: manually select date and file name in the corresponding section (either cpu, netsend or netrecv)"
   ]
  },
  {
   "cell_type": "code",
   "execution_count": 1,
   "metadata": {},
   "outputs": [],
   "source": [
    "import matplotlib\n",
    "import matplotlib.pyplot as plt\n",
    "import matplotlib.ticker as tick\n",
    "import numpy as np\n",
    "import pandas as pd"
   ]
  },
  {
   "cell_type": "markdown",
   "metadata": {},
   "source": [
    "## Adjust date of processed csv files"
   ]
  },
  {
   "cell_type": "code",
   "execution_count": 15,
   "metadata": {},
   "outputs": [],
   "source": [
    "date = '2018-10-28_21h33'\n",
    "base_path = '/Users/florianmorath/Desktop/ASL_project/scripts/2_BaselineWithMW/processed_data/one_mw/' + date + '/'\n",
    "worker_list = [8,16,32,64]"
   ]
  },
  {
   "cell_type": "code",
   "execution_count": 4,
   "metadata": {},
   "outputs": [],
   "source": [
    "def y_fmt(tick_val, pos):\n",
    "    if tick_val > 1000000:\n",
    "        val = int(tick_val)/1000000\n",
    "        return str(val).rstrip('0') + ' M'\n",
    "    elif tick_val >= 1000:\n",
    "        val = int(tick_val) / 1000\n",
    "        return str(val).rstrip('0') + ' k'\n",
    "    else:\n",
    "        return tick_val"
   ]
  },
  {
   "cell_type": "markdown",
   "metadata": {},
   "source": [
    "## CPU utilization plot"
   ]
  },
  {
   "cell_type": "code",
   "execution_count": 5,
   "metadata": {},
   "outputs": [
    {
     "data": {
      "text/html": [
       "<div>\n",
       "<style scoped>\n",
       "    .dataframe tbody tr th:only-of-type {\n",
       "        vertical-align: middle;\n",
       "    }\n",
       "\n",
       "    .dataframe tbody tr th {\n",
       "        vertical-align: top;\n",
       "    }\n",
       "\n",
       "    .dataframe thead th {\n",
       "        text-align: right;\n",
       "    }\n",
       "</style>\n",
       "<table border=\"1\" class=\"dataframe\">\n",
       "  <thead>\n",
       "    <tr style=\"text-align: right;\">\n",
       "      <th></th>\n",
       "      <th>client</th>\n",
       "      <th>worker</th>\n",
       "      <th>cpu_mean</th>\n",
       "      <th>cpu_std</th>\n",
       "    </tr>\n",
       "  </thead>\n",
       "  <tbody>\n",
       "    <tr>\n",
       "      <th>0</th>\n",
       "      <td>12</td>\n",
       "      <td>8</td>\n",
       "      <td>3.782125</td>\n",
       "      <td>2.272125</td>\n",
       "    </tr>\n",
       "    <tr>\n",
       "      <th>1</th>\n",
       "      <td>12</td>\n",
       "      <td>16</td>\n",
       "      <td>7.051750</td>\n",
       "      <td>0.239000</td>\n",
       "    </tr>\n",
       "    <tr>\n",
       "      <th>2</th>\n",
       "      <td>24</td>\n",
       "      <td>8</td>\n",
       "      <td>10.543125</td>\n",
       "      <td>0.649125</td>\n",
       "    </tr>\n",
       "    <tr>\n",
       "      <th>3</th>\n",
       "      <td>24</td>\n",
       "      <td>16</td>\n",
       "      <td>11.953750</td>\n",
       "      <td>1.503500</td>\n",
       "    </tr>\n",
       "  </tbody>\n",
       "</table>\n",
       "</div>"
      ],
      "text/plain": [
       "   client  worker   cpu_mean   cpu_std\n",
       "0      12       8   3.782125  2.272125\n",
       "1      12      16   7.051750  0.239000\n",
       "2      24       8  10.543125  0.649125\n",
       "3      24      16  11.953750  1.503500"
      ]
     },
     "execution_count": 5,
     "metadata": {},
     "output_type": "execute_result"
    }
   ],
   "source": [
    "# read data into pandas dataframe\n",
    "file_name = 'dstat_server_cpu_ratio_1:0.csv'\n",
    "df_c = pd.read_csv(base_path + file_name)\n",
    "df_c"
   ]
  },
  {
   "cell_type": "code",
   "execution_count": 7,
   "metadata": {},
   "outputs": [
    {
     "data": {
      "image/png": "[encoded data removed]",
      "text/plain": [
       "<Figure size 432x288 with 1 Axes>"
      ]
     },
     "metadata": {
      "needs_background": "light"
     },
     "output_type": "display_data"
    }
   ],
   "source": [
    "f = plt.figure()\n",
    "plt.title(\"CPU Utilization on Server vs. Num of Virtual Clients \\n (Write-only, 3 Clients, 1 MW, 1 Server, CT=2, VC=[1..56])\")\n",
    "\n",
    "for worker in worker_list:\n",
    "    # extract values of interest\n",
    "    df_c_cut = df_c[(df_c.worker == worker)]\n",
    "    \n",
    "    vcs = df_c_cut['client']\n",
    "    tps = df_c_cut['cpu_mean']\n",
    "    std = df_c_cut['cpu_std']\n",
    "    \n",
    "    plt.errorbar(x = vcs, y = tps, yerr = std, label = \"{} Workers\".format(worker), capsize = 4, marker='o')\n",
    "\n",
    "plt.grid(linestyle = \"dotted\")\n",
    "plt.ylabel(\"CPU Usage (%)\")\n",
    "plt.xlabel(\"Number of Virtual Clients\")\n",
    "plt.xticks([0] + np.array(vcs))\n",
    "plt.ylim(bottom=0, top=100)\n",
    "plt.legend()\n",
    "\n",
    "ax = plt.gca()\n",
    "ax.yaxis.set_major_formatter(tick.FuncFormatter(y_fmt))\n",
    "\n",
    "plt.show()\n",
    "f.savefig(\"/Users/florianmorath/Desktop/ASL_project/scripts/2_BaselineWithMW/processed_data/one_mw/\"+date+\"/\"+file_name[:-4]+\".png\", dpi = 150)"
   ]
  },
  {
   "cell_type": "markdown",
   "metadata": {},
   "source": [
    "## Network send activity plot"
   ]
  },
  {
   "cell_type": "code",
   "execution_count": 5,
   "metadata": {},
   "outputs": [
    {
     "data": {
      "text/html": [
       "<div>\n",
       "<style scoped>\n",
       "    .dataframe tbody tr th:only-of-type {\n",
       "        vertical-align: middle;\n",
       "    }\n",
       "\n",
       "    .dataframe tbody tr th {\n",
       "        vertical-align: top;\n",
       "    }\n",
       "\n",
       "    .dataframe thead th {\n",
       "        text-align: right;\n",
       "    }\n",
       "</style>\n",
       "<table border=\"1\" class=\"dataframe\">\n",
       "  <thead>\n",
       "    <tr style=\"text-align: right;\">\n",
       "      <th></th>\n",
       "      <th>client</th>\n",
       "      <th>worker</th>\n",
       "      <th>netsend_mean</th>\n",
       "      <th>netsend_std</th>\n",
       "    </tr>\n",
       "  </thead>\n",
       "  <tbody>\n",
       "    <tr>\n",
       "      <th>0</th>\n",
       "      <td>12</td>\n",
       "      <td>8</td>\n",
       "      <td>5.429447e+06</td>\n",
       "      <td>141193.875</td>\n",
       "    </tr>\n",
       "    <tr>\n",
       "      <th>1</th>\n",
       "      <td>12</td>\n",
       "      <td>16</td>\n",
       "      <td>5.618968e+06</td>\n",
       "      <td>6236.000</td>\n",
       "    </tr>\n",
       "    <tr>\n",
       "      <th>2</th>\n",
       "      <td>24</td>\n",
       "      <td>8</td>\n",
       "      <td>1.041549e+07</td>\n",
       "      <td>198411.750</td>\n",
       "    </tr>\n",
       "    <tr>\n",
       "      <th>3</th>\n",
       "      <td>24</td>\n",
       "      <td>16</td>\n",
       "      <td>9.967727e+06</td>\n",
       "      <td>61042.875</td>\n",
       "    </tr>\n",
       "  </tbody>\n",
       "</table>\n",
       "</div>"
      ],
      "text/plain": [
       "   client  worker  netsend_mean  netsend_std\n",
       "0      12       8  5.429447e+06   141193.875\n",
       "1      12      16  5.618968e+06     6236.000\n",
       "2      24       8  1.041549e+07   198411.750\n",
       "3      24      16  9.967727e+06    61042.875"
      ]
     },
     "execution_count": 5,
     "metadata": {},
     "output_type": "execute_result"
    }
   ],
   "source": [
    "# read data into pandas dataframe\n",
    "file_name = 'dstat_server_netsend_ratio_0:1.csv'\n",
    "df_c = pd.read_csv(base_path + file_name)\n",
    "df_c"
   ]
  },
  {
   "cell_type": "code",
   "execution_count": 11,
   "metadata": {},
   "outputs": [
    {
     "data": {
      "image/png": "[encoded data removed]",
      "text/plain": [
       "<Figure size 432x288 with 1 Axes>"
      ]
     },
     "metadata": {
      "needs_background": "light"
     },
     "output_type": "display_data"
    }
   ],
   "source": [
    "f = plt.figure()\n",
    "plt.title(\"Network send on Server vs. Num of Virtual Clients \\n (Read-only, 3 Clients, 1 MW, 1 Server, CT=2, VC=[1..56])\")\n",
    "\n",
    "for worker in worker_list:\n",
    "    # extract values of interest\n",
    "    df_c_cut = df_c[(df_c.worker == worker)]\n",
    "    \n",
    "    vcs = df_c_cut['client']\n",
    "    tps = df_c_cut['netsend_mean']\n",
    "    std = df_c_cut['netsend_std']\n",
    "    \n",
    "    plt.errorbar(x = vcs, y = tps, yerr = std, label = \"{} Workers\".format(worker), capsize = 4, marker='o')\n",
    "\n",
    "plt.grid(linestyle = \"dotted\")\n",
    "plt.ylabel(\"Network send (bytes)\")\n",
    "plt.xlabel(\"Number of Virtual Clients\")\n",
    "plt.xticks([0] + np.array(vcs))\n",
    "plt.ylim(bottom=0, top=1e6+np.max(df_c['netsend_mean']))\n",
    "plt.legend()\n",
    "\n",
    "ax = plt.gca()\n",
    "ax.yaxis.set_major_formatter(tick.FuncFormatter(y_fmt))\n",
    "\n",
    "plt.show()\n",
    "f.savefig(\"/Users/florianmorath/Desktop/ASL_project/scripts/2_BaselineWithMW/processed_data/one_mw/\"+date+\"/\"+file_name[:-4]+\".png\", dpi = 150)"
   ]
  },
  {
   "cell_type": "markdown",
   "metadata": {},
   "source": [
    "## Network recv activity plot"
   ]
  },
  {
   "cell_type": "code",
   "execution_count": 13,
   "metadata": {},
   "outputs": [
    {
     "data": {
      "text/html": [
       "<div>\n",
       "<style scoped>\n",
       "    .dataframe tbody tr th:only-of-type {\n",
       "        vertical-align: middle;\n",
       "    }\n",
       "\n",
       "    .dataframe tbody tr th {\n",
       "        vertical-align: top;\n",
       "    }\n",
       "\n",
       "    .dataframe thead th {\n",
       "        text-align: right;\n",
       "    }\n",
       "</style>\n",
       "<table border=\"1\" class=\"dataframe\">\n",
       "  <thead>\n",
       "    <tr style=\"text-align: right;\">\n",
       "      <th></th>\n",
       "      <th>client</th>\n",
       "      <th>worker</th>\n",
       "      <th>netrecv_mean</th>\n",
       "      <th>netrecv_std</th>\n",
       "    </tr>\n",
       "  </thead>\n",
       "  <tbody>\n",
       "    <tr>\n",
       "      <th>0</th>\n",
       "      <td>12</td>\n",
       "      <td>8</td>\n",
       "      <td>5.582829e+06</td>\n",
       "      <td>146031.375</td>\n",
       "    </tr>\n",
       "    <tr>\n",
       "      <th>1</th>\n",
       "      <td>12</td>\n",
       "      <td>16</td>\n",
       "      <td>5.714512e+06</td>\n",
       "      <td>11937.250</td>\n",
       "    </tr>\n",
       "    <tr>\n",
       "      <th>2</th>\n",
       "      <td>24</td>\n",
       "      <td>8</td>\n",
       "      <td>1.058452e+07</td>\n",
       "      <td>227425.000</td>\n",
       "    </tr>\n",
       "    <tr>\n",
       "      <th>3</th>\n",
       "      <td>24</td>\n",
       "      <td>16</td>\n",
       "      <td>1.003758e+07</td>\n",
       "      <td>25798.750</td>\n",
       "    </tr>\n",
       "  </tbody>\n",
       "</table>\n",
       "</div>"
      ],
      "text/plain": [
       "   client  worker  netrecv_mean  netrecv_std\n",
       "0      12       8  5.582829e+06   146031.375\n",
       "1      12      16  5.714512e+06    11937.250\n",
       "2      24       8  1.058452e+07   227425.000\n",
       "3      24      16  1.003758e+07    25798.750"
      ]
     },
     "execution_count": 13,
     "metadata": {},
     "output_type": "execute_result"
    }
   ],
   "source": [
    "# read data into pandas dataframe\n",
    "file_name = 'dstat_client_netrecv_ratio_0:1.csv'\n",
    "df_c = pd.read_csv(base_path + file_name)\n",
    "df_c"
   ]
  },
  {
   "cell_type": "code",
   "execution_count": 14,
   "metadata": {},
   "outputs": [
    {
     "data": {
      "image/png": "[encoded data removed]",
      "text/plain": [
       "<Figure size 432x288 with 1 Axes>"
      ]
     },
     "metadata": {
      "needs_background": "light"
     },
     "output_type": "display_data"
    }
   ],
   "source": [
    "f = plt.figure()\n",
    "plt.title(\"Network recv on Client vs. Num of Virtual Clients \\n (Read-only, 3 Clients, 1 MW, 1 Server, CT=2, VC=[1..56])\")\n",
    "\n",
    "for worker in worker_list:\n",
    "    # extract values of interest\n",
    "    df_c_cut = df_c[(df_c.worker == worker)]\n",
    "    \n",
    "    vcs = df_c_cut['client']\n",
    "    tps = df_c_cut['netrecv_mean']\n",
    "    std = df_c_cut['netrecv_std']\n",
    "    \n",
    "    plt.errorbar(x = vcs, y = tps, yerr = std, label = \"{} Workers\".format(worker), capsize = 4, marker='o')\n",
    "\n",
    "plt.grid(linestyle = \"dotted\")\n",
    "plt.ylabel(\"Network recv (bytes?)\")\n",
    "plt.xlabel(\"Number of Virtual Clients\")\n",
    "plt.xticks([0] + np.array(vcs))\n",
    "plt.ylim(bottom=0, top=1e6+np.max(df_c['netrecv_mean']))\n",
    "plt.legend()\n",
    "\n",
    "\n",
    "ax = plt.gca()\n",
    "ax.yaxis.set_major_formatter(tick.FuncFormatter(y_fmt))\n",
    "\n",
    "plt.show()\n",
    "f.savefig(\"/Users/florianmorath/Desktop/ASL_project/scripts/2_BaselineWithMW/processed_data/one_mw/\"+date+\"/\"+file_name[:-4]+\".png\", dpi = 150)"
   ]
  },
  {
   "cell_type": "code",
   "execution_count": null,
   "metadata": {},
   "outputs": [],
   "source": []
  }
 ],
 "metadata": {
  "kernelspec": {
   "display_name": "Python 3",
   "language": "python",
   "name": "python3"
  },
  "language_info": {
   "codemirror_mode": {
    "name": "ipython",
    "version": 3
   },
   "file_extension": ".py",
   "mimetype": "text/x-python",
   "name": "python",
   "nbconvert_exporter": "python",
   "pygments_lexer": "ipython3",
   "version": "3.6.5"
  }
 },
 "nbformat": 4,
 "nbformat_minor": 2
}
