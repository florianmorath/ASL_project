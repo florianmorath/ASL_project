{
 "cells": [
  {
   "cell_type": "markdown",
   "metadata": {},
   "source": [
    "### This file plots the processed csv files with matplotlib"
   ]
  },
  {
   "cell_type": "markdown",
   "metadata": {},
   "source": [
    "Note: manually select date and file name in the corresponding section (either cpu, netsend or netrecv)"
   ]
  },
  {
   "cell_type": "code",
   "execution_count": 3,
   "metadata": {},
   "outputs": [],
   "source": [
    "import matplotlib\n",
    "import matplotlib.pyplot as plt\n",
    "import matplotlib.ticker as tick\n",
    "import numpy as np\n",
    "import pandas as pd"
   ]
  },
  {
   "cell_type": "markdown",
   "metadata": {},
   "source": [
    "## Adjust date of processed csv files"
   ]
  },
  {
   "cell_type": "code",
   "execution_count": 4,
   "metadata": {},
   "outputs": [],
   "source": [
    "date = '2018-11-22_18h12'\n",
    "base_path = '/Users/florianmorath/Desktop/ASL_project/scripts/4_GetsAndMultigets/processed_data/' + date + '/'"
   ]
  },
  {
   "cell_type": "code",
   "execution_count": 5,
   "metadata": {},
   "outputs": [],
   "source": [
    "def y_fmt(tick_val, pos):\n",
    "    if tick_val > 1000000:\n",
    "        val = int(tick_val)/1000000\n",
    "        return str(val).rstrip('0') + ' M'\n",
    "    elif tick_val >= 1000:\n",
    "        val = int(tick_val) / 1000\n",
    "        return str(val).rstrip('0') + ' k'\n",
    "    else:\n",
    "        return tick_val"
   ]
  },
  {
   "cell_type": "markdown",
   "metadata": {},
   "source": [
    "## CPU utilization plot"
   ]
  },
  {
   "cell_type": "code",
   "execution_count": 6,
   "metadata": {},
   "outputs": [
    {
     "data": {
      "text/html": [
       "<div>\n",
       "<style scoped>\n",
       "    .dataframe tbody tr th:only-of-type {\n",
       "        vertical-align: middle;\n",
       "    }\n",
       "\n",
       "    .dataframe tbody tr th {\n",
       "        vertical-align: top;\n",
       "    }\n",
       "\n",
       "    .dataframe thead th {\n",
       "        text-align: right;\n",
       "    }\n",
       "</style>\n",
       "<table border=\"1\" class=\"dataframe\">\n",
       "  <thead>\n",
       "    <tr style=\"text-align: right;\">\n",
       "      <th></th>\n",
       "      <th>client</th>\n",
       "      <th>worker</th>\n",
       "      <th>sharded</th>\n",
       "      <th>cpu_mean</th>\n",
       "      <th>cpu_std</th>\n",
       "    </tr>\n",
       "  </thead>\n",
       "  <tbody>\n",
       "    <tr>\n",
       "      <th>0</th>\n",
       "      <td>12</td>\n",
       "      <td>64</td>\n",
       "      <td>1:1</td>\n",
       "      <td>17.523902</td>\n",
       "      <td>0.481139</td>\n",
       "    </tr>\n",
       "    <tr>\n",
       "      <th>1</th>\n",
       "      <td>12</td>\n",
       "      <td>64</td>\n",
       "      <td>1:3</td>\n",
       "      <td>16.971447</td>\n",
       "      <td>0.338202</td>\n",
       "    </tr>\n",
       "    <tr>\n",
       "      <th>2</th>\n",
       "      <td>12</td>\n",
       "      <td>64</td>\n",
       "      <td>1:6</td>\n",
       "      <td>11.124187</td>\n",
       "      <td>0.283863</td>\n",
       "    </tr>\n",
       "    <tr>\n",
       "      <th>3</th>\n",
       "      <td>12</td>\n",
       "      <td>64</td>\n",
       "      <td>1:9</td>\n",
       "      <td>7.873333</td>\n",
       "      <td>0.383221</td>\n",
       "    </tr>\n",
       "  </tbody>\n",
       "</table>\n",
       "</div>"
      ],
      "text/plain": [
       "   client  worker sharded   cpu_mean   cpu_std\n",
       "0      12      64     1:1  17.523902  0.481139\n",
       "1      12      64     1:3  16.971447  0.338202\n",
       "2      12      64     1:6  11.124187  0.283863\n",
       "3      12      64     1:9   7.873333  0.383221"
      ]
     },
     "execution_count": 6,
     "metadata": {},
     "output_type": "execute_result"
    }
   ],
   "source": [
    "# read data into pandas dataframe\n",
    "file_name = 'dstat_server_cpu_sharded_True.csv'\n",
    "df_c = pd.read_csv(base_path + file_name)\n",
    "df_c"
   ]
  },
  {
   "cell_type": "code",
   "execution_count": 7,
   "metadata": {},
   "outputs": [
    {
     "data": {
      "image/png": "[encoded data removed]",
      "text/plain": [
       "<Figure size 432x288 with 1 Axes>"
      ]
     },
     "metadata": {
      "needs_background": "light"
     },
     "output_type": "display_data"
    }
   ],
   "source": [
    "f = plt.figure()\n",
    "plt.title(\"CPU Utilization on Server vs. Key size \\n (3 Clients, 2 MW, 3 Server, CT=1, VC=2)\")\n",
    "\n",
    "    \n",
    "vcs = df_c['sharded']\n",
    "means = df_c['cpu_mean']\n",
    "stds = df_c['cpu_std']\n",
    "\n",
    "#plt.bar()\n",
    "plt.bar(x = vcs, height = means, yerr = stds, label = 'Not Sharded', width=0.5)\n",
    "\n",
    "plt.grid(linestyle = \"dotted\")\n",
    "plt.ylabel(\"CPU Usage (%)\")\n",
    "plt.xlabel(\"Ratio\")\n",
    "#plt.xticks([0] + np.array(vcs))\n",
    "plt.ylim(bottom=0, top=100)\n",
    "plt.legend()\n",
    "\n",
    "ax = plt.gca()\n",
    "ax.yaxis.set_major_formatter(tick.FuncFormatter(y_fmt))\n",
    "\n",
    "plt.show()\n",
    "f.savefig(\"/Users/florianmorath/Desktop/ASL_project/scripts/4_GetsAndMultigets/processed_data/\"+date+\"/\"+file_name[:-4]+\".png\", dpi = 150)"
   ]
  },
  {
   "cell_type": "markdown",
   "metadata": {},
   "source": [
    "## Network send activity plot"
   ]
  },
  {
   "cell_type": "code",
   "execution_count": 14,
   "metadata": {},
   "outputs": [
    {
     "data": {
      "text/html": [
       "<div>\n",
       "<style scoped>\n",
       "    .dataframe tbody tr th:only-of-type {\n",
       "        vertical-align: middle;\n",
       "    }\n",
       "\n",
       "    .dataframe tbody tr th {\n",
       "        vertical-align: top;\n",
       "    }\n",
       "\n",
       "    .dataframe thead th {\n",
       "        text-align: right;\n",
       "    }\n",
       "</style>\n",
       "<table border=\"1\" class=\"dataframe\">\n",
       "  <thead>\n",
       "    <tr style=\"text-align: right;\">\n",
       "      <th></th>\n",
       "      <th>client</th>\n",
       "      <th>worker</th>\n",
       "      <th>sharded</th>\n",
       "      <th>netsend_mean</th>\n",
       "      <th>netsend_std</th>\n",
       "    </tr>\n",
       "  </thead>\n",
       "  <tbody>\n",
       "    <tr>\n",
       "      <th>0</th>\n",
       "      <td>12</td>\n",
       "      <td>64</td>\n",
       "      <td>1:1</td>\n",
       "      <td>5.868254e+06</td>\n",
       "      <td>97071.544436</td>\n",
       "    </tr>\n",
       "    <tr>\n",
       "      <th>1</th>\n",
       "      <td>12</td>\n",
       "      <td>64</td>\n",
       "      <td>1:3</td>\n",
       "      <td>1.215831e+07</td>\n",
       "      <td>492895.238832</td>\n",
       "    </tr>\n",
       "    <tr>\n",
       "      <th>2</th>\n",
       "      <td>12</td>\n",
       "      <td>64</td>\n",
       "      <td>1:6</td>\n",
       "      <td>1.247326e+07</td>\n",
       "      <td>6967.629317</td>\n",
       "    </tr>\n",
       "    <tr>\n",
       "      <th>3</th>\n",
       "      <td>12</td>\n",
       "      <td>64</td>\n",
       "      <td>1:9</td>\n",
       "      <td>1.246191e+07</td>\n",
       "      <td>7290.063604</td>\n",
       "    </tr>\n",
       "  </tbody>\n",
       "</table>\n",
       "</div>"
      ],
      "text/plain": [
       "   client  worker sharded  netsend_mean    netsend_std\n",
       "0      12      64     1:1  5.868254e+06   97071.544436\n",
       "1      12      64     1:3  1.215831e+07  492895.238832\n",
       "2      12      64     1:6  1.247326e+07    6967.629317\n",
       "3      12      64     1:9  1.246191e+07    7290.063604"
      ]
     },
     "execution_count": 14,
     "metadata": {},
     "output_type": "execute_result"
    }
   ],
   "source": [
    "# read data into pandas dataframe\n",
    "file_name = 'dstat_server_netsend_sharded_False.csv'\n",
    "df_c = pd.read_csv(base_path + file_name)\n",
    "df_c"
   ]
  },
  {
   "cell_type": "code",
   "execution_count": 15,
   "metadata": {},
   "outputs": [
    {
     "data": {
      "image/png": "[encoded data removed]",
      "text/plain": [
       "<Figure size 432x288 with 1 Axes>"
      ]
     },
     "metadata": {
      "needs_background": "light"
     },
     "output_type": "display_data"
    }
   ],
   "source": [
    "f = plt.figure()\n",
    "plt.title(\"Network send on Server vs. Num of Virtual Clients \\n (3 Clients, 2 MW, 3 Server, CT=1, VC=2)\")\n",
    "\n",
    "vcs = df_c['sharded']\n",
    "means = df_c['netsend_mean']\n",
    "stds = df_c['netsend_std']\n",
    "    \n",
    "plt.bar(x = vcs, height = means, yerr = stds, label = 'Not-Sharded', width=0.5)\n",
    "\n",
    "plt.grid(linestyle = \"dotted\")\n",
    "plt.ylabel(\"Network send (bytes)\")\n",
    "plt.xlabel(\"Number of keys\")\n",
    "#plt.xticks([0] + np.array(vcs))\n",
    "plt.ylim(bottom=0, top=1e6+np.max(df_c['netsend_mean']))\n",
    "plt.legend()\n",
    "\n",
    "ax = plt.gca()\n",
    "ax.set_xticklabels(('1', '3', '6', '9'))\n",
    "ax.yaxis.set_major_formatter(tick.FuncFormatter(y_fmt))\n",
    "\n",
    "plt.show()\n",
    "f.savefig(\"/Users/florianmorath/Desktop/ASL_project/scripts/4_GetsAndMultigets/processed_data/\"+date+\"/\"+file_name[:-4]+\".png\", dpi = 150)"
   ]
  },
  {
   "cell_type": "code",
   "execution_count": null,
   "metadata": {},
   "outputs": [],
   "source": []
  },
  {
   "cell_type": "code",
   "execution_count": null,
   "metadata": {},
   "outputs": [],
   "source": []
  }
 ],
 "metadata": {
  "kernelspec": {
   "display_name": "Python 3",
   "language": "python",
   "name": "python3"
  },
  "language_info": {
   "codemirror_mode": {
    "name": "ipython",
    "version": 3
   },
   "file_extension": ".py",
   "mimetype": "text/x-python",
   "name": "python",
   "nbconvert_exporter": "python",
   "pygments_lexer": "ipython3",
   "version": "3.6.5"
  }
 },
 "nbformat": 4,
 "nbformat_minor": 2
}
